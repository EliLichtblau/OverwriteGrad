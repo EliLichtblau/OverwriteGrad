{
 "cells": [
  {
   "cell_type": "code",
   "execution_count": 1,
   "metadata": {},
   "outputs": [],
   "source": [
    "import torch\n",
    "from OverwriteGrad.nn import Linear, ReLU, Softmax, LayerNorm, TransformerDecoder, TransformerDecoderLayer\n",
    "import OverwriteGrad.nn.functional as F\n",
    "import tensorflow as tf\n",
    "import numpy as np\n",
    "import matplotlib.pyplot as plt\n",
    "from tensorflow.keras.datasets import mnist"
   ]
  },
  {
   "cell_type": "code",
   "execution_count": 2,
   "metadata": {},
   "outputs": [
    {
     "name": "stdout",
     "output_type": "stream",
     "text": [
      "x_train: torch.Size([60000, 784]), y_train: torch.Size([60000]), x_test: torch.Size([10000, 784]), y_test: torch.Size([10000]) \n"
     ]
    }
   ],
   "source": [
    "(x_train, y_train), (x_test, y_test) = mnist.load_data()\n",
    "x_train, y_train = torch.tensor(x_train).float().reshape(60_000, 784).cuda(), torch.tensor(y_train).long().cuda()\n",
    "x_test, y_test = torch.tensor(x_test).float().reshape(x_test.shape[0], 784).cuda(), torch.tensor(y_test).long().cuda()\n",
    "\n",
    "print(f\"x_train: {x_train.shape}, y_train: {y_train.shape}, x_test: {x_test.shape}, y_test: {y_test.shape} \")"
   ]
  },
  {
   "cell_type": "code",
   "execution_count": 36,
   "metadata": {},
   "outputs": [],
   "source": [
    "def plotModelSVD(model: torch.nn.Module):\n",
    "    names = []\n",
    "    singluar_values = [] \n",
    "    for name, param in model.named_parameters():\n",
    "        p = param\n",
    "        if len(p.shape) == 1:\n",
    "            p = p.unsqueeze(0) # make svd-able\n",
    "        _, S, _ = torch.linalg.svd(p)\n",
    "        names.append(name)\n",
    "        singluar_values.append(S)\n",
    "    fig, ax = plt.subplots()\n",
    "    # plot means\n",
    "    svd_means = [torch.mean(s) for s in singluar_values]\n",
    "    svd_maxes = [torch.max(s) for s in singluar_values]\n",
    "    plt.xticks(rotation=90)\n",
    "    ax.bar(names, svd_maxes)\n",
    "    ax.bar(names, svd_means)\n"
   ]
  },
  {
   "cell_type": "code",
   "execution_count": 5,
   "metadata": {},
   "outputs": [
    {
     "name": "stdout",
     "output_type": "stream",
     "text": [
      "Epoch: 0, acc: 0.0833333358168602, loss: 2.3306474685668945, val: 0.0876999944448471\n",
      "Epoch: 50, acc: 0.8474666476249695, loss: 1.615727186203003, val: 0.8454999923706055\n",
      "Epoch: 100, acc: 0.8717833161354065, loss: 1.590449571609497, val: 0.8650999665260315\n",
      "Epoch: 150, acc: 0.8816333413124084, loss: 1.5794410705566406, val: 0.8696999549865723\n",
      "Epoch: 200, acc: 0.8860999941825867, loss: 1.5737347602844238, val: 0.8741999864578247\n",
      "Epoch: 250, acc: 0.9836500287055969, loss: 1.4789193868637085, val: 0.965399980545044\n",
      "Epoch: 300, acc: 0.9873499870300293, loss: 1.4745445251464844, val: 0.9686999917030334\n",
      "Epoch: 350, acc: 0.9886333346366882, loss: 1.4729719161987305, val: 0.9696999788284302\n",
      "Epoch: 400, acc: 0.9895666837692261, loss: 1.4718984365463257, val: 0.9693999886512756\n",
      "Epoch: 450, acc: 0.9900500178337097, loss: 1.4713151454925537, val: 0.9692999720573425\n",
      "Epoch: 500, acc: 0.9904666543006897, loss: 1.470853567123413, val: 0.9693999886512756\n",
      "Epoch: 550, acc: 0.9907333254814148, loss: 1.4704952239990234, val: 0.9691999554634094\n",
      "Epoch: 600, acc: 0.9909999966621399, loss: 1.4702115058898926, val: 0.9695999622344971\n",
      "Epoch: 650, acc: 0.9911666512489319, loss: 1.470007300376892, val: 0.9697999954223633\n",
      "Epoch: 700, acc: 0.9914166927337646, loss: 1.4697778224945068, val: 0.9700999855995178\n",
      "Epoch: 750, acc: 0.9916499853134155, loss: 1.4695203304290771, val: 0.9703999757766724\n",
      "Epoch: 800, acc: 0.9918000102043152, loss: 1.4693543910980225, val: 0.97079998254776\n",
      "Epoch: 850, acc: 0.9919166564941406, loss: 1.4692213535308838, val: 0.9713999629020691\n",
      "Epoch: 900, acc: 0.9920666813850403, loss: 1.4690783023834229, val: 0.9721999764442444\n",
      "Epoch: 950, acc: 0.9923000335693359, loss: 1.4688314199447632, val: 0.9721999764442444\n"
     ]
    },
    {
     "data": {
      "image/png": "[encoded data removed]",
      "text/plain": [
       "<Figure size 432x288 with 1 Axes>"
      ]
     },
     "metadata": {
      "needs_background": "light"
     },
     "output_type": "display_data"
    }
   ],
   "source": [
    "model =  torch.nn.Sequential(\n",
    "    Linear(784, 128),\n",
    "    ReLU(),\n",
    "    Linear(128, 256),\n",
    "    ReLU(),\n",
    "    Linear(256, 128),\n",
    "    ReLU(),\n",
    "    Linear(128, 10),\n",
    "    Softmax()\n",
    ").to(\"cuda\")\n",
    "opt = torch.optim.Adam(model.parameters(), lr=3e-4)\n",
    "model.zero_grad()\n",
    "training_acc = []\n",
    "validation_acc = []\n",
    "for i in range(1000):\n",
    "    opt.zero_grad()\n",
    "    pred = model(x_train)\n",
    "    loss = torch.nn.functional.cross_entropy(pred, y_train)\n",
    "    acc = (torch.argmax(pred, -1)==y_train).float().mean()\n",
    "    training_acc.append(acc)\n",
    "    validation_acc.append((torch.argmax(model(x_test), -1)==y_test).float().mean())\n",
    "    if i % 50 == 0:\n",
    "        print(f\"Epoch: {i}, acc: {acc}, loss: {loss.item()}, val: {validation_acc[-1]}\")\n",
    "    loss.backward()\n",
    "    opt.step()\n",
    "fig, ax = plt.subplots()\n",
    "ax.plot(list(range(1000)), training_acc)\n",
    "ax.plot(list(range(1000)), validation_acc)\n",
    "plt.show()\n",
    "\n"
   ]
  },
  {
   "cell_type": "code",
   "execution_count": 4,
   "metadata": {},
   "outputs": [
    {
     "name": "stdout",
     "output_type": "stream",
     "text": [
      "Epoch: 0, acc: 0.05701666697859764, loss: 2.38515567779541, val: 0.057999998331069946\n",
      "Epoch: 50, acc: 0.6774333119392395, loss: 1.78193199634552, val: 0.6796999573707581\n",
      "Epoch: 100, acc: 0.692466676235199, loss: 1.7662267684936523, val: 0.6908000111579895\n",
      "Epoch: 150, acc: 0.699150025844574, loss: 1.7582567930221558, val: 0.694599986076355\n",
      "Epoch: 200, acc: 0.7031166553497314, loss: 1.7531541585922241, val: 0.6958000063896179\n",
      "Epoch: 250, acc: 0.7889000177383423, loss: 1.6697202920913696, val: 0.7788999676704407\n",
      "Epoch: 300, acc: 0.7933499813079834, loss: 1.6635828018188477, val: 0.7802000045776367\n",
      "Epoch: 350, acc: 0.8825666904449463, loss: 1.5781190395355225, val: 0.8712999820709229\n",
      "Epoch: 400, acc: 0.8894500136375427, loss: 1.569506049156189, val: 0.8757999539375305\n",
      "Epoch: 450, acc: 0.985966682434082, loss: 1.476250171661377, val: 0.967199981212616\n",
      "Epoch: 500, acc: 0.9884499907493591, loss: 1.4731712341308594, val: 0.9684999585151672\n",
      "Epoch: 550, acc: 0.9894166588783264, loss: 1.4720804691314697, val: 0.9697999954223633\n",
      "Epoch: 600, acc: 0.9900000095367432, loss: 1.4714081287384033, val: 0.9693999886512756\n",
      "Epoch: 650, acc: 0.9902833700180054, loss: 1.471036434173584, val: 0.9693999886512756\n",
      "Epoch: 700, acc: 0.9906499981880188, loss: 1.4706605672836304, val: 0.9702999591827393\n",
      "Epoch: 750, acc: 0.9909000396728516, loss: 1.4703487157821655, val: 0.9705999493598938\n",
      "Epoch: 800, acc: 0.9911666512489319, loss: 1.470073938369751, val: 0.9704999923706055\n",
      "Epoch: 850, acc: 0.9912833571434021, loss: 1.4699187278747559, val: 0.97079998254776\n",
      "Epoch: 900, acc: 0.9914500117301941, loss: 1.4697412252426147, val: 0.9705999493598938\n",
      "Epoch: 950, acc: 0.9916166663169861, loss: 1.4695700407028198, val: 0.97079998254776\n"
     ]
    },
    {
     "data": {
      "image/png": "[encoded data removed]",
      "text/plain": [
       "<Figure size 432x288 with 1 Axes>"
      ]
     },
     "metadata": {
      "needs_background": "light"
     },
     "output_type": "display_data"
    }
   ],
   "source": [
    "modelTorch =  torch.nn.Sequential(\n",
    "    torch.nn.Linear(784, 128),\n",
    "    torch.nn.ReLU(),\n",
    "    torch.nn.Linear(128, 128),\n",
    "    torch.nn.ReLU(),\n",
    "    torch.nn.Linear(128, 10),\n",
    "    torch.nn.Softmax()\n",
    ").to(\"cuda\")\n",
    "opt = torch.optim.Adam(modelTorch.parameters(), lr=3e-4)\n",
    "modelTorch.zero_grad()\n",
    "training_acc = []\n",
    "validation_acc = []\n",
    "for i in range(1000):\n",
    "    opt.zero_grad()\n",
    "    pred = modelTorch(x_train)\n",
    "    loss = torch.nn.functional.cross_entropy(pred, y_train)\n",
    "    acc = (torch.argmax(pred, -1)==y_train).float().mean()\n",
    "    training_acc.append(acc)\n",
    "    validation_acc.append((torch.argmax(modelTorch(x_test), -1)==y_test).float().mean())\n",
    "    if i % 50 == 0:\n",
    "        print(f\"Epoch: {i}, acc: {acc}, loss: {loss.item()}, val: {validation_acc[-1]}\")\n",
    "    loss.backward()\n",
    "    opt.step()\n",
    "fig, ax = plt.subplots()\n",
    "ax.plot(list(range(1000)), training_acc)\n",
    "ax.plot(list(range(1000)), validation_acc)\n",
    "plt.show()\n"
   ]
  },
  {
   "cell_type": "code",
   "execution_count": 10,
   "metadata": {},
   "outputs": [],
   "source": [
    "def gen_data(n_training_data: int, p: int, device: str = \"cuda\"):\n",
    "    # generate all possible equations for mod p\n",
    "    all_data = []\n",
    "    for i in range(p):\n",
    "        for j in range(p):\n",
    "           all_data.append([i,j,(i+j)%p])\n",
    "    \n",
    "    all_data = np.array(all_data)\n",
    "    indices = np.random.permutation(all_data.shape[0])\n",
    "    train_indices = indices[:n_training_data]\n",
    "    valid_indices = indices[n_training_data:]\n",
    "    \n",
    "    input_seq: np.ndarray = all_data.copy()\n",
    "    output_seq = input_seq.copy()\n",
    "    input_seq[:, -1] = 0 # don't include answers\n",
    "\n",
    "    train_x = (torch.tensor(input_seq[train_indices]).long().to(device))\n",
    "    train_y = (torch.tensor(output_seq[train_indices]).long().to(device))\n",
    "    valid_x = (torch.tensor(input_seq[valid_indices]).long().to(device))\n",
    "    valid_y = (torch.tensor(output_seq[valid_indices]).long().to(device))\n",
    "\n",
    "    return (train_x, train_y), (valid_x, valid_y)\n",
    "def onehot(x: torch.Tensor, n_classes: int) -> torch.Tensor:\n",
    "    return (torch.nn.functional.one_hot(x, n_classes))\n",
    "\n",
    "(train_x, train_y), (valid_x, valid_y) = gen_data(1200, 97, device=\"cuda\")\n",
    "train_x = onehot(train_x, 128).float()\n",
    "valid_x = onehot(valid_x, 128).float()"
   ]
  },
  {
   "cell_type": "code",
   "execution_count": 40,
   "metadata": {},
   "outputs": [
    {
     "name": "stdout",
     "output_type": "stream",
     "text": [
      "Epoch 0: loss 4.751855e+00, training_accuracy 0.007500000298023224, validation_accuracy: 0.009867219254374504\n",
      "Epoch 50: loss 2.991054e+00, training_accuracy 0.40833333134651184, validation_accuracy: 0.03569253161549568\n",
      "Epoch 100: loss 1.429534e+00, training_accuracy 0.8941667079925537, validation_accuracy: 0.10695578157901764\n",
      "Epoch 150: loss 5.523330e-01, training_accuracy 0.9825000166893005, validation_accuracy: 0.12413205206394196\n",
      "Epoch 200: loss 2.663054e-01, training_accuracy 0.9950000047683716, validation_accuracy: 0.12693385779857635\n",
      "Epoch 250: loss 1.869895e-01, training_accuracy 0.996666669845581, validation_accuracy: 0.12656840682029724\n",
      "Epoch 300: loss 1.620454e-01, training_accuracy 0.9991666674613953, validation_accuracy: 0.12620294094085693\n",
      "Epoch 350: loss 1.448212e-01, training_accuracy 0.9975000023841858, validation_accuracy: 0.12632475793361664\n",
      "Epoch 400: loss 1.454095e-01, training_accuracy 0.9983333349227905, validation_accuracy: 0.12632475793361664\n",
      "Epoch 450: loss 1.460650e-01, training_accuracy 0.9991666674613953, validation_accuracy: 0.12620294094085693\n",
      "Epoch 500: loss 1.441716e-01, training_accuracy 0.9975000023841858, validation_accuracy: 0.12766475975513458\n",
      "Epoch 550: loss 1.378129e-01, training_accuracy 0.9983333349227905, validation_accuracy: 0.127908393740654\n",
      "Epoch 600: loss 1.281771e-01, training_accuracy 1.0, validation_accuracy: 0.12693385779857635\n",
      "Epoch 650: loss 1.306041e-01, training_accuracy 1.0, validation_accuracy: 0.12681204080581665\n",
      "Epoch 700: loss 1.390081e-01, training_accuracy 1.0, validation_accuracy: 0.12681204080581665\n",
      "Epoch 750: loss 1.428121e-01, training_accuracy 0.9975000023841858, validation_accuracy: 0.12754294276237488\n",
      "Epoch 800: loss 1.391119e-01, training_accuracy 0.9991666674613953, validation_accuracy: 0.12754294276237488\n",
      "Epoch 850: loss 1.502746e-01, training_accuracy 0.9991666674613953, validation_accuracy: 0.12693385779857635\n",
      "Epoch 900: loss 1.538559e-01, training_accuracy 0.9991666674613953, validation_accuracy: 0.12705567479133606\n",
      "Epoch 950: loss 1.473511e-01, training_accuracy 0.996666669845581, validation_accuracy: 0.12705567479133606\n",
      "Epoch 1000: loss 1.562299e-01, training_accuracy 0.9975000023841858, validation_accuracy: 0.12669022381305695\n",
      "Epoch 1050: loss 1.493462e-01, training_accuracy 0.9975000023841858, validation_accuracy: 0.12693385779857635\n",
      "Epoch 1100: loss 1.447911e-01, training_accuracy 0.996666669845581, validation_accuracy: 0.12620294094085693\n",
      "Epoch 1150: loss 1.459657e-01, training_accuracy 0.9958333373069763, validation_accuracy: 0.12669022381305695\n"
     ]
    },
    {
     "ename": "KeyboardInterrupt",
     "evalue": "",
     "output_type": "error",
     "traceback": [
      "\u001b[0;31m---------------------------------------------------------------------------\u001b[0m",
      "\u001b[0;31mKeyboardInterrupt\u001b[0m                         Traceback (most recent call last)",
      "\u001b[0;32m<ipython-input-40-fe5b0e043282>\u001b[0m in \u001b[0;36m<module>\u001b[0;34m\u001b[0m\n\u001b[1;32m     28\u001b[0m \u001b[0mopt\u001b[0m \u001b[0;34m=\u001b[0m \u001b[0mtorch\u001b[0m\u001b[0;34m.\u001b[0m\u001b[0moptim\u001b[0m\u001b[0;34m.\u001b[0m\u001b[0mAdam\u001b[0m\u001b[0;34m(\u001b[0m\u001b[0mmodel\u001b[0m\u001b[0;34m.\u001b[0m\u001b[0mparameters\u001b[0m\u001b[0;34m(\u001b[0m\u001b[0;34m)\u001b[0m\u001b[0;34m,\u001b[0m \u001b[0mlr\u001b[0m\u001b[0;34m=\u001b[0m\u001b[0;36m3e-4\u001b[0m\u001b[0;34m,\u001b[0m \u001b[0mweight_decay\u001b[0m\u001b[0;34m=\u001b[0m\u001b[0;36m1e-2\u001b[0m\u001b[0;34m,\u001b[0m \u001b[0mbetas\u001b[0m\u001b[0;34m=\u001b[0m\u001b[0;34m[\u001b[0m\u001b[0;36m0.9\u001b[0m\u001b[0;34m,\u001b[0m \u001b[0;36m0.98\u001b[0m\u001b[0;34m]\u001b[0m\u001b[0;34m)\u001b[0m\u001b[0;34m\u001b[0m\u001b[0;34m\u001b[0m\u001b[0m\n\u001b[1;32m     29\u001b[0m \u001b[0;32mfor\u001b[0m \u001b[0mi\u001b[0m \u001b[0;32min\u001b[0m \u001b[0mrange\u001b[0m\u001b[0;34m(\u001b[0m\u001b[0;36m12000\u001b[0m\u001b[0;34m)\u001b[0m\u001b[0;34m:\u001b[0m\u001b[0;34m\u001b[0m\u001b[0;34m\u001b[0m\u001b[0m\n\u001b[0;32m---> 30\u001b[0;31m     \u001b[0mopt\u001b[0m\u001b[0;34m.\u001b[0m\u001b[0mzero_grad\u001b[0m\u001b[0;34m(\u001b[0m\u001b[0;34m)\u001b[0m\u001b[0;34m\u001b[0m\u001b[0;34m\u001b[0m\u001b[0m\n\u001b[0m\u001b[1;32m     31\u001b[0m     \u001b[0moutput\u001b[0m \u001b[0;34m=\u001b[0m \u001b[0mmodel\u001b[0m\u001b[0;34m.\u001b[0m\u001b[0mforward\u001b[0m\u001b[0;34m(\u001b[0m\u001b[0mtrain_x\u001b[0m\u001b[0;34m)\u001b[0m\u001b[0;34m\u001b[0m\u001b[0;34m\u001b[0m\u001b[0m\n\u001b[1;32m     32\u001b[0m \u001b[0;34m\u001b[0m\u001b[0m\n",
      "\u001b[0;32m~/anaconda3/envs/cmsc320/lib/python3.8/site-packages/torch/optim/optimizer.py\u001b[0m in \u001b[0;36mzero_grad\u001b[0;34m(self, set_to_none)\u001b[0m\n\u001b[1;32m    277\u001b[0m                                 \u001b[0mp\u001b[0m\u001b[0;34m.\u001b[0m\u001b[0mgrad\u001b[0m\u001b[0;34m.\u001b[0m\u001b[0mrequires_grad_\u001b[0m\u001b[0;34m(\u001b[0m\u001b[0;32mFalse\u001b[0m\u001b[0;34m)\u001b[0m\u001b[0;34m\u001b[0m\u001b[0;34m\u001b[0m\u001b[0m\n\u001b[1;32m    278\u001b[0m                             \u001b[0;32mif\u001b[0m \u001b[0;34m(\u001b[0m\u001b[0;32mnot\u001b[0m \u001b[0mforeach\u001b[0m \u001b[0;32mor\u001b[0m \u001b[0mp\u001b[0m\u001b[0;34m.\u001b[0m\u001b[0mgrad\u001b[0m\u001b[0;34m.\u001b[0m\u001b[0mis_sparse\u001b[0m\u001b[0;34m)\u001b[0m\u001b[0;34m:\u001b[0m\u001b[0;34m\u001b[0m\u001b[0;34m\u001b[0m\u001b[0m\n\u001b[0;32m--> 279\u001b[0;31m                                 \u001b[0mp\u001b[0m\u001b[0;34m.\u001b[0m\u001b[0mgrad\u001b[0m\u001b[0;34m.\u001b[0m\u001b[0mzero_\u001b[0m\u001b[0;34m(\u001b[0m\u001b[0;34m)\u001b[0m\u001b[0;34m\u001b[0m\u001b[0;34m\u001b[0m\u001b[0m\n\u001b[0m\u001b[1;32m    280\u001b[0m                             \u001b[0;32melse\u001b[0m\u001b[0;34m:\u001b[0m\u001b[0;34m\u001b[0m\u001b[0;34m\u001b[0m\u001b[0m\n\u001b[1;32m    281\u001b[0m                                 \u001b[0mper_device_and_dtype_grads\u001b[0m\u001b[0;34m[\u001b[0m\u001b[0mp\u001b[0m\u001b[0;34m.\u001b[0m\u001b[0mgrad\u001b[0m\u001b[0;34m.\u001b[0m\u001b[0mdevice\u001b[0m\u001b[0;34m]\u001b[0m\u001b[0;34m[\u001b[0m\u001b[0mp\u001b[0m\u001b[0;34m.\u001b[0m\u001b[0mgrad\u001b[0m\u001b[0;34m.\u001b[0m\u001b[0mdtype\u001b[0m\u001b[0;34m]\u001b[0m\u001b[0;34m.\u001b[0m\u001b[0mappend\u001b[0m\u001b[0;34m(\u001b[0m\u001b[0mp\u001b[0m\u001b[0;34m.\u001b[0m\u001b[0mgrad\u001b[0m\u001b[0;34m)\u001b[0m\u001b[0;34m\u001b[0m\u001b[0;34m\u001b[0m\u001b[0m\n",
      "\u001b[0;31mKeyboardInterrupt\u001b[0m: "
     ]
    }
   ],
   "source": [
    "class Transformer(torch.nn.Module):\n",
    "    def __init__(self, seq_length: int, num_embeddings: int, d_model: int, dim_feedforward: int = 2048):\n",
    "        super().__init__()\n",
    "        self.d_model = d_model\n",
    "        self.num_embeddings = num_embeddings\n",
    "\n",
    "        self.decoder_layer = TransformerDecoderLayer(self.d_model, nhead=4, dim_feedforward=dim_feedforward,\n",
    "                                        dropout=0.1, batch_first=True, norm_first=True)\n",
    "        decoder_norm = LayerNorm(self.d_model)\n",
    "\n",
    "        self.decoder = TransformerDecoder(\n",
    "            self.decoder_layer, num_layers=2, norm=decoder_norm)\n",
    "\n",
    "        self.linear = Linear(\n",
    "            self.d_model, self.num_embeddings, bias=False)\n",
    "        self.mask = torch.nn.Parameter(\n",
    "            (torch.ones([seq_length, seq_length]).tril()))\n",
    "    def forward(self, x: torch.Tensor) -> torch.Tensor:\n",
    "        x = self.decoder.forward(x, torch.zeros_like(x), self.mask) \n",
    "        #x = self.decoder_layer.forward(x, torch.zeros_like(x))  # todo: less dumb\n",
    "        return self.linear(x)\n",
    "\n",
    "    def acc(self, prediction: torch.Tensor, labels: torch.Tensor):\n",
    "        return (torch.argmax(prediction, dim=-2) == labels).float().mean()\n",
    "\n",
    "\n",
    "model = Transformer(train_x.size(-2), 97, 128).to(\"cuda\")\n",
    "opt = torch.optim.Adam(model.parameters(), lr=3e-4, weight_decay=1e-2, betas=[0.9, 0.98]) \n",
    "for i in range(12000):\n",
    "    opt.zero_grad()\n",
    "    output = model.forward(train_x)\n",
    "\n",
    "    pred = output.transpose(-2, -1) # todo possibel fix\n",
    "    pred = pred[..., -1:]\n",
    "    label = train_y[:, -1:]\n",
    "    loss = torch.nn.functional.cross_entropy(pred, label)\n",
    "    acc = model.acc(pred, label)\n",
    "    with torch.no_grad():\n",
    "        valp = model.forward(valid_x).transpose(-2,-1)[..., -1:]\n",
    "        val_acc = model.acc(valp, valid_y[:, -1:])\n",
    "    if i % 50 == 0:\n",
    "        print(f\"Epoch {i}: loss {loss.item():e}, training_accuracy {acc}, validation_accuracy: {val_acc}\")\n",
    "    loss.backward()\n",
    "    opt.step()"
   ]
  },
  {
   "cell_type": "code",
   "execution_count": 41,
   "metadata": {},
   "outputs": [
    {
     "data": {
      "image/png": "[encoded data removed]",
      "text/plain": [
       "<Figure size 432x288 with 1 Axes>"
      ]
     },
     "metadata": {
      "needs_background": "light"
     },
     "output_type": "display_data"
    }
   ],
   "source": [
    "plotModelSVD(model)"
   ]
  },
  {
   "cell_type": "code",
   "execution_count": 44,
   "metadata": {},
   "outputs": [
    {
     "name": "stdout",
     "output_type": "stream",
     "text": [
      "Epoch 0: loss 4.695361e+00, training_accuracy 0.013333333656191826, validation_accuracy: 0.009258131496608257\n",
      "Epoch 50: loss 7.411098e-01, training_accuracy 0.9041666984558105, validation_accuracy: 0.11097575724124908\n",
      "Epoch 100: loss 6.079684e-01, training_accuracy 0.893333375453949, validation_accuracy: 0.1140211969614029\n",
      "Epoch 150: loss 2.528488e-01, training_accuracy 0.987500011920929, validation_accuracy: 0.12388841807842255\n",
      "Epoch 200: loss 2.408696e-01, training_accuracy 0.9766666889190674, validation_accuracy: 0.12364477664232254\n"
     ]
    },
    {
     "ename": "KeyboardInterrupt",
     "evalue": "",
     "output_type": "error",
     "traceback": [
      "\u001b[0;31m---------------------------------------------------------------------------\u001b[0m",
      "\u001b[0;31mKeyboardInterrupt\u001b[0m                         Traceback (most recent call last)",
      "\u001b[0;32m<ipython-input-44-77d47a7967b6>\u001b[0m in \u001b[0;36m<module>\u001b[0;34m\u001b[0m\n\u001b[1;32m     43\u001b[0m         \u001b[0mprint\u001b[0m\u001b[0;34m(\u001b[0m\u001b[0;34mf\"Epoch {i}: loss {loss.item():e}, training_accuracy {acc}, validation_accuracy: {val_acc}\"\u001b[0m\u001b[0;34m)\u001b[0m\u001b[0;34m\u001b[0m\u001b[0;34m\u001b[0m\u001b[0m\n\u001b[1;32m     44\u001b[0m     \u001b[0mloss\u001b[0m\u001b[0;34m.\u001b[0m\u001b[0mbackward\u001b[0m\u001b[0;34m(\u001b[0m\u001b[0;34m)\u001b[0m\u001b[0;34m\u001b[0m\u001b[0;34m\u001b[0m\u001b[0m\n\u001b[0;32m---> 45\u001b[0;31m     \u001b[0mopt\u001b[0m\u001b[0;34m.\u001b[0m\u001b[0mstep\u001b[0m\u001b[0;34m(\u001b[0m\u001b[0;34m)\u001b[0m\u001b[0;34m\u001b[0m\u001b[0;34m\u001b[0m\u001b[0m\n\u001b[0m",
      "\u001b[0;32m~/anaconda3/envs/cmsc320/lib/python3.8/site-packages/torch/optim/optimizer.py\u001b[0m in \u001b[0;36mwrapper\u001b[0;34m(*args, **kwargs)\u001b[0m\n\u001b[1;32m    138\u001b[0m                 \u001b[0mprofile_name\u001b[0m \u001b[0;34m=\u001b[0m \u001b[0;34m\"Optimizer.step#{}.step\"\u001b[0m\u001b[0;34m.\u001b[0m\u001b[0mformat\u001b[0m\u001b[0;34m(\u001b[0m\u001b[0mobj\u001b[0m\u001b[0;34m.\u001b[0m\u001b[0m__class__\u001b[0m\u001b[0;34m.\u001b[0m\u001b[0m__name__\u001b[0m\u001b[0;34m)\u001b[0m\u001b[0;34m\u001b[0m\u001b[0;34m\u001b[0m\u001b[0m\n\u001b[1;32m    139\u001b[0m                 \u001b[0;32mwith\u001b[0m \u001b[0mtorch\u001b[0m\u001b[0;34m.\u001b[0m\u001b[0mautograd\u001b[0m\u001b[0;34m.\u001b[0m\u001b[0mprofiler\u001b[0m\u001b[0;34m.\u001b[0m\u001b[0mrecord_function\u001b[0m\u001b[0;34m(\u001b[0m\u001b[0mprofile_name\u001b[0m\u001b[0;34m)\u001b[0m\u001b[0;34m:\u001b[0m\u001b[0;34m\u001b[0m\u001b[0;34m\u001b[0m\u001b[0m\n\u001b[0;32m--> 140\u001b[0;31m                     \u001b[0mout\u001b[0m \u001b[0;34m=\u001b[0m \u001b[0mfunc\u001b[0m\u001b[0;34m(\u001b[0m\u001b[0;34m*\u001b[0m\u001b[0margs\u001b[0m\u001b[0;34m,\u001b[0m \u001b[0;34m**\u001b[0m\u001b[0mkwargs\u001b[0m\u001b[0;34m)\u001b[0m\u001b[0;34m\u001b[0m\u001b[0;34m\u001b[0m\u001b[0m\n\u001b[0m\u001b[1;32m    141\u001b[0m                     \u001b[0mobj\u001b[0m\u001b[0;34m.\u001b[0m\u001b[0m_optimizer_step_code\u001b[0m\u001b[0;34m(\u001b[0m\u001b[0;34m)\u001b[0m\u001b[0;34m\u001b[0m\u001b[0;34m\u001b[0m\u001b[0m\n\u001b[1;32m    142\u001b[0m                     \u001b[0;32mreturn\u001b[0m \u001b[0mout\u001b[0m\u001b[0;34m\u001b[0m\u001b[0;34m\u001b[0m\u001b[0m\n",
      "\u001b[0;32m~/anaconda3/envs/cmsc320/lib/python3.8/site-packages/torch/optim/optimizer.py\u001b[0m in \u001b[0;36m_use_grad\u001b[0;34m(self, *args, **kwargs)\u001b[0m\n\u001b[1;32m     21\u001b[0m         \u001b[0;32mtry\u001b[0m\u001b[0;34m:\u001b[0m\u001b[0;34m\u001b[0m\u001b[0;34m\u001b[0m\u001b[0m\n\u001b[1;32m     22\u001b[0m             \u001b[0mtorch\u001b[0m\u001b[0;34m.\u001b[0m\u001b[0mset_grad_enabled\u001b[0m\u001b[0;34m(\u001b[0m\u001b[0mself\u001b[0m\u001b[0;34m.\u001b[0m\u001b[0mdefaults\u001b[0m\u001b[0;34m[\u001b[0m\u001b[0;34m'differentiable'\u001b[0m\u001b[0;34m]\u001b[0m\u001b[0;34m)\u001b[0m\u001b[0;34m\u001b[0m\u001b[0;34m\u001b[0m\u001b[0m\n\u001b[0;32m---> 23\u001b[0;31m             \u001b[0mret\u001b[0m \u001b[0;34m=\u001b[0m \u001b[0mfunc\u001b[0m\u001b[0;34m(\u001b[0m\u001b[0mself\u001b[0m\u001b[0;34m,\u001b[0m \u001b[0;34m*\u001b[0m\u001b[0margs\u001b[0m\u001b[0;34m,\u001b[0m \u001b[0;34m**\u001b[0m\u001b[0mkwargs\u001b[0m\u001b[0;34m)\u001b[0m\u001b[0;34m\u001b[0m\u001b[0;34m\u001b[0m\u001b[0m\n\u001b[0m\u001b[1;32m     24\u001b[0m         \u001b[0;32mfinally\u001b[0m\u001b[0;34m:\u001b[0m\u001b[0;34m\u001b[0m\u001b[0;34m\u001b[0m\u001b[0m\n\u001b[1;32m     25\u001b[0m             \u001b[0mtorch\u001b[0m\u001b[0;34m.\u001b[0m\u001b[0mset_grad_enabled\u001b[0m\u001b[0;34m(\u001b[0m\u001b[0mprev_grad\u001b[0m\u001b[0;34m)\u001b[0m\u001b[0;34m\u001b[0m\u001b[0;34m\u001b[0m\u001b[0m\n",
      "\u001b[0;32m~/anaconda3/envs/cmsc320/lib/python3.8/site-packages/torch/optim/adam.py\u001b[0m in \u001b[0;36mstep\u001b[0;34m(self, closure, grad_scaler)\u001b[0m\n\u001b[1;32m    232\u001b[0m                     \u001b[0mstate_steps\u001b[0m\u001b[0;34m.\u001b[0m\u001b[0mappend\u001b[0m\u001b[0;34m(\u001b[0m\u001b[0mstate\u001b[0m\u001b[0;34m[\u001b[0m\u001b[0;34m'step'\u001b[0m\u001b[0;34m]\u001b[0m\u001b[0;34m)\u001b[0m\u001b[0;34m\u001b[0m\u001b[0;34m\u001b[0m\u001b[0m\n\u001b[1;32m    233\u001b[0m \u001b[0;34m\u001b[0m\u001b[0m\n\u001b[0;32m--> 234\u001b[0;31m             adam(params_with_grad,\n\u001b[0m\u001b[1;32m    235\u001b[0m                  \u001b[0mgrads\u001b[0m\u001b[0;34m,\u001b[0m\u001b[0;34m\u001b[0m\u001b[0;34m\u001b[0m\u001b[0m\n\u001b[1;32m    236\u001b[0m                  \u001b[0mexp_avgs\u001b[0m\u001b[0;34m,\u001b[0m\u001b[0;34m\u001b[0m\u001b[0;34m\u001b[0m\u001b[0m\n",
      "\u001b[0;32m~/anaconda3/envs/cmsc320/lib/python3.8/site-packages/torch/optim/adam.py\u001b[0m in \u001b[0;36madam\u001b[0;34m(params, grads, exp_avgs, exp_avg_sqs, max_exp_avg_sqs, state_steps, foreach, capturable, differentiable, fused, grad_scale, found_inf, amsgrad, beta1, beta2, lr, weight_decay, eps, maximize)\u001b[0m\n\u001b[1;32m    298\u001b[0m         \u001b[0mfunc\u001b[0m \u001b[0;34m=\u001b[0m \u001b[0m_single_tensor_adam\u001b[0m\u001b[0;34m\u001b[0m\u001b[0;34m\u001b[0m\u001b[0m\n\u001b[1;32m    299\u001b[0m \u001b[0;34m\u001b[0m\u001b[0m\n\u001b[0;32m--> 300\u001b[0;31m     func(params,\n\u001b[0m\u001b[1;32m    301\u001b[0m          \u001b[0mgrads\u001b[0m\u001b[0;34m,\u001b[0m\u001b[0;34m\u001b[0m\u001b[0;34m\u001b[0m\u001b[0m\n\u001b[1;32m    302\u001b[0m          \u001b[0mexp_avgs\u001b[0m\u001b[0;34m,\u001b[0m\u001b[0;34m\u001b[0m\u001b[0;34m\u001b[0m\u001b[0m\n",
      "\u001b[0;32m~/anaconda3/envs/cmsc320/lib/python3.8/site-packages/torch/optim/adam.py\u001b[0m in \u001b[0;36m_single_tensor_adam\u001b[0;34m(params, grads, exp_avgs, exp_avg_sqs, max_exp_avg_sqs, state_steps, grad_scale, found_inf, amsgrad, beta1, beta2, lr, weight_decay, eps, maximize, capturable, differentiable)\u001b[0m\n\u001b[1;32m    362\u001b[0m         \u001b[0;31m# Decay the first and second moment running average coefficient\u001b[0m\u001b[0;34m\u001b[0m\u001b[0;34m\u001b[0m\u001b[0;34m\u001b[0m\u001b[0m\n\u001b[1;32m    363\u001b[0m         \u001b[0mexp_avg\u001b[0m\u001b[0;34m.\u001b[0m\u001b[0mmul_\u001b[0m\u001b[0;34m(\u001b[0m\u001b[0mbeta1\u001b[0m\u001b[0;34m)\u001b[0m\u001b[0;34m.\u001b[0m\u001b[0madd_\u001b[0m\u001b[0;34m(\u001b[0m\u001b[0mgrad\u001b[0m\u001b[0;34m,\u001b[0m \u001b[0malpha\u001b[0m\u001b[0;34m=\u001b[0m\u001b[0;36m1\u001b[0m \u001b[0;34m-\u001b[0m \u001b[0mbeta1\u001b[0m\u001b[0;34m)\u001b[0m\u001b[0;34m\u001b[0m\u001b[0;34m\u001b[0m\u001b[0m\n\u001b[0;32m--> 364\u001b[0;31m         \u001b[0mexp_avg_sq\u001b[0m\u001b[0;34m.\u001b[0m\u001b[0mmul_\u001b[0m\u001b[0;34m(\u001b[0m\u001b[0mbeta2\u001b[0m\u001b[0;34m)\u001b[0m\u001b[0;34m.\u001b[0m\u001b[0maddcmul_\u001b[0m\u001b[0;34m(\u001b[0m\u001b[0mgrad\u001b[0m\u001b[0;34m,\u001b[0m \u001b[0mgrad\u001b[0m\u001b[0;34m.\u001b[0m\u001b[0mconj\u001b[0m\u001b[0;34m(\u001b[0m\u001b[0;34m)\u001b[0m\u001b[0;34m,\u001b[0m \u001b[0mvalue\u001b[0m\u001b[0;34m=\u001b[0m\u001b[0;36m1\u001b[0m \u001b[0;34m-\u001b[0m \u001b[0mbeta2\u001b[0m\u001b[0;34m)\u001b[0m\u001b[0;34m\u001b[0m\u001b[0;34m\u001b[0m\u001b[0m\n\u001b[0m\u001b[1;32m    365\u001b[0m \u001b[0;34m\u001b[0m\u001b[0m\n\u001b[1;32m    366\u001b[0m         \u001b[0;32mif\u001b[0m \u001b[0mcapturable\u001b[0m \u001b[0;32mor\u001b[0m \u001b[0mdifferentiable\u001b[0m\u001b[0;34m:\u001b[0m\u001b[0;34m\u001b[0m\u001b[0;34m\u001b[0m\u001b[0m\n",
      "\u001b[0;31mKeyboardInterrupt\u001b[0m: "
     ]
    }
   ],
   "source": [
    "class Transformer(torch.nn.Module):\n",
    "    def __init__(self, seq_length: int, num_embeddings: int, d_model: int, dim_feedforward: int = 2048):\n",
    "        super().__init__()\n",
    "        self.d_model = d_model\n",
    "        self.num_embeddings = num_embeddings\n",
    "\n",
    "        self.decoder_layer = torch.nn.TransformerDecoderLayer(self.d_model, nhead=4, dim_feedforward=dim_feedforward,\n",
    "                                        dropout=0.1, batch_first=True, norm_first=True)\n",
    "        decoder_norm = torch.nn.LayerNorm(self.d_model)\n",
    "\n",
    "        self.decoder = torch.nn.TransformerDecoder(\n",
    "            self.decoder_layer, num_layers=2, norm=decoder_norm)\n",
    "        self.linear = torch.nn.Linear(\n",
    "            self.d_model, self.num_embeddings, bias=False)\n",
    "        self.mask = torch.nn.Parameter(\n",
    "            (torch.ones([seq_length, seq_length]).tril()))\n",
    "\n",
    "    def forward(self, x: torch.Tensor) -> torch.Tensor:\n",
    "\n",
    "        x = self.decoder.forward(x, torch.zeros_like(x), self.mask)  # todo: less dumb\n",
    "        #x = self.decoder_layer.forward(x, torch.zeros_like(x))\n",
    "        return self.linear(x)\n",
    "\n",
    "    def acc(self, prediction: torch.Tensor, labels: torch.Tensor):\n",
    "        return (torch.argmax(prediction, dim=-2) == labels).float().mean()\n",
    "\n",
    "\n",
    "model = Transformer(train_x.size(-2), 97, 128).to(\"cuda\")\n",
    "opt = torch.optim.Adam(model.parameters(), lr=3e-3, weight_decay=1e-2, betas=[0.9, 0.98]) \n",
    "for i in range(12000):\n",
    "    opt.zero_grad()\n",
    "    output = model.forward(train_x)\n",
    "\n",
    "    pred = output.transpose(-2, -1) # todo possibel fix\n",
    "    pred = pred[..., -1:]\n",
    "    label = train_y[:, -1:]\n",
    "    loss = torch.nn.functional.cross_entropy(pred, label)\n",
    "    acc = model.acc(pred, label)\n",
    "    with torch.no_grad():\n",
    "        valp = model.forward(valid_x).transpose(-2,-1)[..., -1:]\n",
    "        val_acc = model.acc(valp, valid_y[:, -1:])\n",
    "    if i % 50 == 0:\n",
    "        print(f\"Epoch {i}: loss {loss.item():e}, training_accuracy {acc}, validation_accuracy: {val_acc}\")\n",
    "    loss.backward()\n",
    "    opt.step()"
   ]
  },
  {
   "cell_type": "code",
   "execution_count": 39,
   "metadata": {},
   "outputs": [
    {
     "data": {
      "image/png": "[encoded data removed]",
      "text/plain": [
       "<Figure size 432x288 with 1 Axes>"
      ]
     },
     "metadata": {
      "needs_background": "light"
     },
     "output_type": "display_data"
    }
   ],
   "source": [
    "plotModelSVD(model)\n"
   ]
  },
  {
   "cell_type": "code",
   "execution_count": 45,
   "metadata": {},
   "outputs": [
    {
     "data": {
      "image/png": "[encoded data removed]",
      "text/plain": [
       "<Figure size 432x288 with 1 Axes>"
      ]
     },
     "metadata": {
      "needs_background": "light"
     },
     "output_type": "display_data"
    }
   ],
   "source": [
    "plotModelSVD(model)"
   ]
  },
  {
   "cell_type": "code",
   "execution_count": 30,
   "metadata": {},
   "outputs": [
    {
     "name": "stderr",
     "output_type": "stream",
     "text": [
      "/home/eli/anaconda3/envs/cmsc320/lib/python3.8/site-packages/torch/nn/modules/container.py:204: UserWarning: Implicit dimension choice for softmax has been deprecated. Change the call to include dim=X as an argument.\n",
      "  input = module(input)\n"
     ]
    },
    {
     "name": "stdout",
     "output_type": "stream",
     "text": [
      "Epoch: 0, acc: 0.9321333169937134\n",
      "Epoch: 1, acc: 0.9470500349998474\n",
      "Epoch: 2, acc: 0.9536333680152893\n",
      "Epoch: 3, acc: 0.962933361530304\n"
     ]
    },
    {
     "ename": "KeyboardInterrupt",
     "evalue": "",
     "output_type": "error",
     "traceback": [
      "\u001b[0;31m---------------------------------------------------------------------------\u001b[0m",
      "\u001b[0;31mKeyboardInterrupt\u001b[0m                         Traceback (most recent call last)",
      "\u001b[0;32m<ipython-input-30-849a301cea3c>\u001b[0m in \u001b[0;36m<module>\u001b[0;34m\u001b[0m\n\u001b[1;32m     16\u001b[0m         \u001b[0mloss\u001b[0m \u001b[0;34m=\u001b[0m \u001b[0mtorch\u001b[0m\u001b[0;34m.\u001b[0m\u001b[0mnn\u001b[0m\u001b[0;34m.\u001b[0m\u001b[0mfunctional\u001b[0m\u001b[0;34m.\u001b[0m\u001b[0mcross_entropy\u001b[0m\u001b[0;34m(\u001b[0m\u001b[0mpred\u001b[0m\u001b[0;34m,\u001b[0m \u001b[0my_train\u001b[0m\u001b[0;34m[\u001b[0m\u001b[0mbatch\u001b[0m\u001b[0;34m*\u001b[0m\u001b[0;36m32\u001b[0m\u001b[0;34m:\u001b[0m\u001b[0;34m(\u001b[0m\u001b[0mbatch\u001b[0m\u001b[0;34m+\u001b[0m\u001b[0;36m1\u001b[0m\u001b[0;34m)\u001b[0m\u001b[0;34m*\u001b[0m\u001b[0;36m32\u001b[0m\u001b[0;34m]\u001b[0m\u001b[0;34m)\u001b[0m\u001b[0;34m\u001b[0m\u001b[0;34m\u001b[0m\u001b[0m\n\u001b[1;32m     17\u001b[0m         \u001b[0mloss\u001b[0m\u001b[0;34m.\u001b[0m\u001b[0mbackward\u001b[0m\u001b[0;34m(\u001b[0m\u001b[0;34m)\u001b[0m\u001b[0;34m\u001b[0m\u001b[0;34m\u001b[0m\u001b[0m\n\u001b[0;32m---> 18\u001b[0;31m         \u001b[0mopt\u001b[0m\u001b[0;34m.\u001b[0m\u001b[0mstep\u001b[0m\u001b[0;34m(\u001b[0m\u001b[0;34m)\u001b[0m\u001b[0;34m\u001b[0m\u001b[0;34m\u001b[0m\u001b[0m\n\u001b[0m\u001b[1;32m     19\u001b[0m     \u001b[0macc\u001b[0m \u001b[0;34m=\u001b[0m \u001b[0;34m(\u001b[0m\u001b[0mtorch\u001b[0m\u001b[0;34m.\u001b[0m\u001b[0margmax\u001b[0m\u001b[0;34m(\u001b[0m\u001b[0mmodelTorch\u001b[0m\u001b[0;34m(\u001b[0m\u001b[0mxnormal\u001b[0m\u001b[0;34m)\u001b[0m\u001b[0;34m,\u001b[0m \u001b[0;34m-\u001b[0m\u001b[0;36m1\u001b[0m\u001b[0;34m)\u001b[0m\u001b[0;34m==\u001b[0m\u001b[0my_train\u001b[0m\u001b[0;34m)\u001b[0m\u001b[0;34m.\u001b[0m\u001b[0mfloat\u001b[0m\u001b[0;34m(\u001b[0m\u001b[0;34m)\u001b[0m\u001b[0;34m.\u001b[0m\u001b[0mmean\u001b[0m\u001b[0;34m(\u001b[0m\u001b[0;34m)\u001b[0m\u001b[0;34m\u001b[0m\u001b[0;34m\u001b[0m\u001b[0m\n\u001b[1;32m     20\u001b[0m     \u001b[0mprint\u001b[0m\u001b[0;34m(\u001b[0m\u001b[0;34mf\"Epoch: {i}, acc: {acc}\"\u001b[0m\u001b[0;34m)\u001b[0m\u001b[0;34m\u001b[0m\u001b[0;34m\u001b[0m\u001b[0m\n",
      "\u001b[0;32m~/anaconda3/envs/cmsc320/lib/python3.8/site-packages/torch/optim/optimizer.py\u001b[0m in \u001b[0;36mwrapper\u001b[0;34m(*args, **kwargs)\u001b[0m\n\u001b[1;32m    138\u001b[0m                 \u001b[0mprofile_name\u001b[0m \u001b[0;34m=\u001b[0m \u001b[0;34m\"Optimizer.step#{}.step\"\u001b[0m\u001b[0;34m.\u001b[0m\u001b[0mformat\u001b[0m\u001b[0;34m(\u001b[0m\u001b[0mobj\u001b[0m\u001b[0;34m.\u001b[0m\u001b[0m__class__\u001b[0m\u001b[0;34m.\u001b[0m\u001b[0m__name__\u001b[0m\u001b[0;34m)\u001b[0m\u001b[0;34m\u001b[0m\u001b[0;34m\u001b[0m\u001b[0m\n\u001b[1;32m    139\u001b[0m                 \u001b[0;32mwith\u001b[0m \u001b[0mtorch\u001b[0m\u001b[0;34m.\u001b[0m\u001b[0mautograd\u001b[0m\u001b[0;34m.\u001b[0m\u001b[0mprofiler\u001b[0m\u001b[0;34m.\u001b[0m\u001b[0mrecord_function\u001b[0m\u001b[0;34m(\u001b[0m\u001b[0mprofile_name\u001b[0m\u001b[0;34m)\u001b[0m\u001b[0;34m:\u001b[0m\u001b[0;34m\u001b[0m\u001b[0;34m\u001b[0m\u001b[0m\n\u001b[0;32m--> 140\u001b[0;31m                     \u001b[0mout\u001b[0m \u001b[0;34m=\u001b[0m \u001b[0mfunc\u001b[0m\u001b[0;34m(\u001b[0m\u001b[0;34m*\u001b[0m\u001b[0margs\u001b[0m\u001b[0;34m,\u001b[0m \u001b[0;34m**\u001b[0m\u001b[0mkwargs\u001b[0m\u001b[0;34m)\u001b[0m\u001b[0;34m\u001b[0m\u001b[0;34m\u001b[0m\u001b[0m\n\u001b[0m\u001b[1;32m    141\u001b[0m                     \u001b[0mobj\u001b[0m\u001b[0;34m.\u001b[0m\u001b[0m_optimizer_step_code\u001b[0m\u001b[0;34m(\u001b[0m\u001b[0;34m)\u001b[0m\u001b[0;34m\u001b[0m\u001b[0;34m\u001b[0m\u001b[0m\n\u001b[1;32m    142\u001b[0m                     \u001b[0;32mreturn\u001b[0m \u001b[0mout\u001b[0m\u001b[0;34m\u001b[0m\u001b[0;34m\u001b[0m\u001b[0m\n",
      "\u001b[0;32m~/anaconda3/envs/cmsc320/lib/python3.8/site-packages/torch/optim/optimizer.py\u001b[0m in \u001b[0;36m_use_grad\u001b[0;34m(self, *args, **kwargs)\u001b[0m\n\u001b[1;32m     21\u001b[0m         \u001b[0;32mtry\u001b[0m\u001b[0;34m:\u001b[0m\u001b[0;34m\u001b[0m\u001b[0;34m\u001b[0m\u001b[0m\n\u001b[1;32m     22\u001b[0m             \u001b[0mtorch\u001b[0m\u001b[0;34m.\u001b[0m\u001b[0mset_grad_enabled\u001b[0m\u001b[0;34m(\u001b[0m\u001b[0mself\u001b[0m\u001b[0;34m.\u001b[0m\u001b[0mdefaults\u001b[0m\u001b[0;34m[\u001b[0m\u001b[0;34m'differentiable'\u001b[0m\u001b[0;34m]\u001b[0m\u001b[0;34m)\u001b[0m\u001b[0;34m\u001b[0m\u001b[0;34m\u001b[0m\u001b[0m\n\u001b[0;32m---> 23\u001b[0;31m             \u001b[0mret\u001b[0m \u001b[0;34m=\u001b[0m \u001b[0mfunc\u001b[0m\u001b[0;34m(\u001b[0m\u001b[0mself\u001b[0m\u001b[0;34m,\u001b[0m \u001b[0;34m*\u001b[0m\u001b[0margs\u001b[0m\u001b[0;34m,\u001b[0m \u001b[0;34m**\u001b[0m\u001b[0mkwargs\u001b[0m\u001b[0;34m)\u001b[0m\u001b[0;34m\u001b[0m\u001b[0;34m\u001b[0m\u001b[0m\n\u001b[0m\u001b[1;32m     24\u001b[0m         \u001b[0;32mfinally\u001b[0m\u001b[0;34m:\u001b[0m\u001b[0;34m\u001b[0m\u001b[0;34m\u001b[0m\u001b[0m\n\u001b[1;32m     25\u001b[0m             \u001b[0mtorch\u001b[0m\u001b[0;34m.\u001b[0m\u001b[0mset_grad_enabled\u001b[0m\u001b[0;34m(\u001b[0m\u001b[0mprev_grad\u001b[0m\u001b[0;34m)\u001b[0m\u001b[0;34m\u001b[0m\u001b[0;34m\u001b[0m\u001b[0m\n",
      "\u001b[0;32m~/anaconda3/envs/cmsc320/lib/python3.8/site-packages/torch/optim/adam.py\u001b[0m in \u001b[0;36mstep\u001b[0;34m(self, closure, grad_scaler)\u001b[0m\n\u001b[1;32m    232\u001b[0m                     \u001b[0mstate_steps\u001b[0m\u001b[0;34m.\u001b[0m\u001b[0mappend\u001b[0m\u001b[0;34m(\u001b[0m\u001b[0mstate\u001b[0m\u001b[0;34m[\u001b[0m\u001b[0;34m'step'\u001b[0m\u001b[0;34m]\u001b[0m\u001b[0;34m)\u001b[0m\u001b[0;34m\u001b[0m\u001b[0;34m\u001b[0m\u001b[0m\n\u001b[1;32m    233\u001b[0m \u001b[0;34m\u001b[0m\u001b[0m\n\u001b[0;32m--> 234\u001b[0;31m             adam(params_with_grad,\n\u001b[0m\u001b[1;32m    235\u001b[0m                  \u001b[0mgrads\u001b[0m\u001b[0;34m,\u001b[0m\u001b[0;34m\u001b[0m\u001b[0;34m\u001b[0m\u001b[0m\n\u001b[1;32m    236\u001b[0m                  \u001b[0mexp_avgs\u001b[0m\u001b[0;34m,\u001b[0m\u001b[0;34m\u001b[0m\u001b[0;34m\u001b[0m\u001b[0m\n",
      "\u001b[0;32m~/anaconda3/envs/cmsc320/lib/python3.8/site-packages/torch/optim/adam.py\u001b[0m in \u001b[0;36madam\u001b[0;34m(params, grads, exp_avgs, exp_avg_sqs, max_exp_avg_sqs, state_steps, foreach, capturable, differentiable, fused, grad_scale, found_inf, amsgrad, beta1, beta2, lr, weight_decay, eps, maximize)\u001b[0m\n\u001b[1;32m    298\u001b[0m         \u001b[0mfunc\u001b[0m \u001b[0;34m=\u001b[0m \u001b[0m_single_tensor_adam\u001b[0m\u001b[0;34m\u001b[0m\u001b[0;34m\u001b[0m\u001b[0m\n\u001b[1;32m    299\u001b[0m \u001b[0;34m\u001b[0m\u001b[0m\n\u001b[0;32m--> 300\u001b[0;31m     func(params,\n\u001b[0m\u001b[1;32m    301\u001b[0m          \u001b[0mgrads\u001b[0m\u001b[0;34m,\u001b[0m\u001b[0;34m\u001b[0m\u001b[0;34m\u001b[0m\u001b[0m\n\u001b[1;32m    302\u001b[0m          \u001b[0mexp_avgs\u001b[0m\u001b[0;34m,\u001b[0m\u001b[0;34m\u001b[0m\u001b[0;34m\u001b[0m\u001b[0m\n",
      "\u001b[0;32m~/anaconda3/envs/cmsc320/lib/python3.8/site-packages/torch/optim/adam.py\u001b[0m in \u001b[0;36m_single_tensor_adam\u001b[0;34m(params, grads, exp_avgs, exp_avg_sqs, max_exp_avg_sqs, state_steps, grad_scale, found_inf, amsgrad, beta1, beta2, lr, weight_decay, eps, maximize, capturable, differentiable)\u001b[0m\n\u001b[1;32m    362\u001b[0m         \u001b[0;31m# Decay the first and second moment running average coefficient\u001b[0m\u001b[0;34m\u001b[0m\u001b[0;34m\u001b[0m\u001b[0;34m\u001b[0m\u001b[0m\n\u001b[1;32m    363\u001b[0m         \u001b[0mexp_avg\u001b[0m\u001b[0;34m.\u001b[0m\u001b[0mmul_\u001b[0m\u001b[0;34m(\u001b[0m\u001b[0mbeta1\u001b[0m\u001b[0;34m)\u001b[0m\u001b[0;34m.\u001b[0m\u001b[0madd_\u001b[0m\u001b[0;34m(\u001b[0m\u001b[0mgrad\u001b[0m\u001b[0;34m,\u001b[0m \u001b[0malpha\u001b[0m\u001b[0;34m=\u001b[0m\u001b[0;36m1\u001b[0m \u001b[0;34m-\u001b[0m \u001b[0mbeta1\u001b[0m\u001b[0;34m)\u001b[0m\u001b[0;34m\u001b[0m\u001b[0;34m\u001b[0m\u001b[0m\n\u001b[0;32m--> 364\u001b[0;31m         \u001b[0mexp_avg_sq\u001b[0m\u001b[0;34m.\u001b[0m\u001b[0mmul_\u001b[0m\u001b[0;34m(\u001b[0m\u001b[0mbeta2\u001b[0m\u001b[0;34m)\u001b[0m\u001b[0;34m.\u001b[0m\u001b[0maddcmul_\u001b[0m\u001b[0;34m(\u001b[0m\u001b[0mgrad\u001b[0m\u001b[0;34m,\u001b[0m \u001b[0mgrad\u001b[0m\u001b[0;34m.\u001b[0m\u001b[0mconj\u001b[0m\u001b[0;34m(\u001b[0m\u001b[0;34m)\u001b[0m\u001b[0;34m,\u001b[0m \u001b[0mvalue\u001b[0m\u001b[0;34m=\u001b[0m\u001b[0;36m1\u001b[0m \u001b[0;34m-\u001b[0m \u001b[0mbeta2\u001b[0m\u001b[0;34m)\u001b[0m\u001b[0;34m\u001b[0m\u001b[0;34m\u001b[0m\u001b[0m\n\u001b[0m\u001b[1;32m    365\u001b[0m \u001b[0;34m\u001b[0m\u001b[0m\n\u001b[1;32m    366\u001b[0m         \u001b[0;32mif\u001b[0m \u001b[0mcapturable\u001b[0m \u001b[0;32mor\u001b[0m \u001b[0mdifferentiable\u001b[0m\u001b[0;34m:\u001b[0m\u001b[0;34m\u001b[0m\u001b[0;34m\u001b[0m\u001b[0m\n",
      "\u001b[0;31mKeyboardInterrupt\u001b[0m: "
     ]
    }
   ],
   "source": [
    "modelTorch =  torch.nn.Sequential(\n",
    "    torch.nn.Linear(784, 128),\n",
    "    torch.nn.ReLU(),\n",
    "    torch.nn.Linear(128, 128),\n",
    "    torch.nn.ReLU(),\n",
    "    torch.nn.Linear(128, 10),\n",
    "    torch.nn.Softmax()\n",
    ").to(\"cuda\")\n",
    "opt = torch.optim.Adam(modelTorch.parameters(), lr=1e-3)\n",
    "modelTorch.zero_grad()\n",
    "for i in range(100):\n",
    "    \n",
    "    for batch in range(1875):\n",
    "        opt.zero_grad()\n",
    "        pred = modelTorch(xnormal[batch*32:(batch+1)*32])\n",
    "        loss = torch.nn.functional.cross_entropy(pred, y_train[batch*32:(batch+1)*32])\n",
    "        loss.backward()\n",
    "        opt.step()\n",
    "    acc = (torch.argmax(modelTorch(xnormal), -1)==y_train).float().mean()\n",
    "    print(f\"Epoch: {i}, acc: {acc}\")\n",
    "\n"
   ]
  },
  {
   "cell_type": "code",
   "execution_count": 6,
   "metadata": {},
   "outputs": [
    {
     "name": "stderr",
     "output_type": "stream",
     "text": [
      "/home/eli/anaconda3/envs/cmsc320/lib/python3.8/site-packages/torch/nn/modules/container.py:204: UserWarning: Implicit dimension choice for softmax has been deprecated. Change the call to include dim=X as an argument.\n",
      "  input = module(input)\n"
     ]
    },
    {
     "data": {
      "text/plain": [
       "tensor([[7.4316e-03, 2.3545e-05, 4.8926e-02,  ..., 2.2784e-02, 4.7637e-01,\n",
       "         1.1021e-01],\n",
       "        [5.5724e-04, 9.7987e-02, 1.1583e-02,  ..., 7.5222e-03, 7.2502e-01,\n",
       "         3.4519e-02],\n",
       "        [7.5035e-02, 5.3533e-05, 1.8682e-01,  ..., 1.1997e-01, 9.9376e-02,\n",
       "         1.0947e-02],\n",
       "        ...,\n",
       "        [1.8621e-02, 8.3624e-04, 2.0853e-01,  ..., 6.2889e-02, 1.8880e-01,\n",
       "         3.6056e-01],\n",
       "        [6.3993e-04, 6.6225e-03, 1.5063e-01,  ..., 6.9055e-02, 3.7833e-02,\n",
       "         4.4126e-02],\n",
       "        [6.2566e-03, 1.1765e-02, 2.9381e-02,  ..., 3.3292e-02, 7.5407e-02,\n",
       "         4.4836e-01]], device='cuda:0', grad_fn=<SoftmaxBackward0>)"
      ]
     },
     "execution_count": 6,
     "metadata": {},
     "output_type": "execute_result"
    }
   ],
   "source": [
    "model(x_train)"
   ]
  },
  {
   "cell_type": "code",
   "execution_count": 31,
   "metadata": {},
   "outputs": [],
   "source": [
    "model = tf.keras.models.Sequential()\n",
    "model.add(tf.keras.layers.Dense(128, activation=tf.nn.relu, input_shape= x_train.shape[1:]))\n",
    "model.add(tf.keras.layers.Dense(128, activation=tf.nn.relu))\n",
    "model.add(tf.keras.layers.Dense(10, activation=tf.nn.softmax)) \n",
    "opt = tf.keras.optimizers.Adam(learning_rate=1e-3)\n",
    "model.compile(optimizer='adam',  # Good default optimizer to start with\n",
    "              loss='sparse_categorical_crossentropy',  # how will we calculate our \"error.\" Neural network aims to minimize loss.\n",
    "              metrics=['accuracy'])\n"
   ]
  },
  {
   "cell_type": "code",
   "execution_count": 32,
   "metadata": {},
   "outputs": [
    {
     "name": "stdout",
     "output_type": "stream",
     "text": [
      "Epoch 1/3\n",
      "1875/1875 [==============================] - 7s 3ms/step - loss: 4.9657 - accuracy: 0.8185\n",
      "Epoch 2/3\n",
      "1875/1875 [==============================] - 4s 2ms/step - loss: 0.3804 - accuracy: 0.9306\n",
      "Epoch 3/3\n",
      "1875/1875 [==============================] - 5s 3ms/step - loss: 0.2052 - accuracy: 0.9479\n"
     ]
    },
    {
     "data": {
      "text/plain": [
       "<tensorflow.python.keras.callbacks.History at 0x7f9a0438f100>"
      ]
     },
     "execution_count": 32,
     "metadata": {},
     "output_type": "execute_result"
    }
   ],
   "source": [
    "model.fit(x_train.clone().cpu().numpy(), y_train.clone().cpu().numpy(), epochs=3)"
   ]
  },
  {
   "cell_type": "code",
   "execution_count": 37,
   "metadata": {},
   "outputs": [
    {
     "data": {
      "text/plain": [
       "0.9605166666666667"
      ]
     },
     "execution_count": 37,
     "metadata": {},
     "output_type": "execute_result"
    }
   ],
   "source": [
    "np.mean(tf.argmax(model.predict(x_train.clone().cpu().numpy(),), -1) ==  y_train.clone().cpu().numpy())"
   ]
  },
  {
   "cell_type": "code",
   "execution_count": 21,
   "metadata": {},
   "outputs": [
    {
     "name": "stdout",
     "output_type": "stream",
     "text": [
      "Epoch: 0, acc: 0.19715000689029694\n",
      "Epoch: 1, acc: 0.31878334283828735\n",
      "Epoch: 2, acc: 0.35705000162124634\n",
      "Epoch: 3, acc: 0.3704499900341034\n",
      "Epoch: 4, acc: 0.3874000012874603\n",
      "Epoch: 5, acc: 0.4334999918937683\n",
      "Epoch: 6, acc: 0.43433332443237305\n",
      "Epoch: 7, acc: 0.44726666808128357\n",
      "Epoch: 8, acc: 0.4559166729450226\n",
      "Epoch: 9, acc: 0.4605666697025299\n",
      "Epoch: 10, acc: 0.46265000104904175\n",
      "Epoch: 11, acc: 0.4687666594982147\n",
      "Epoch: 12, acc: 0.47245001792907715\n",
      "Epoch: 13, acc: 0.477316677570343\n",
      "Epoch: 14, acc: 0.4889333248138428\n",
      "Epoch: 15, acc: 0.5210999846458435\n",
      "Epoch: 16, acc: 0.536383330821991\n",
      "Epoch: 17, acc: 0.556600034236908\n",
      "Epoch: 18, acc: 0.5819166898727417\n",
      "Epoch: 19, acc: 0.6016499996185303\n",
      "Epoch: 20, acc: 0.6145833134651184\n",
      "Epoch: 21, acc: 0.6272000074386597\n",
      "Epoch: 22, acc: 0.6358500123023987\n",
      "Epoch: 23, acc: 0.6364166736602783\n",
      "Epoch: 24, acc: 0.6383833289146423\n",
      "Epoch: 25, acc: 0.6430000066757202\n",
      "Epoch: 26, acc: 0.6458500027656555\n",
      "Epoch: 27, acc: 0.6489999890327454\n",
      "Epoch: 28, acc: 0.652233362197876\n",
      "Epoch: 29, acc: 0.6535333395004272\n",
      "Epoch: 30, acc: 0.6558166742324829\n",
      "Epoch: 31, acc: 0.6581000089645386\n",
      "Epoch: 32, acc: 0.6591833233833313\n",
      "Epoch: 33, acc: 0.6604666709899902\n",
      "Epoch: 34, acc: 0.6618333458900452\n",
      "Epoch: 35, acc: 0.6625833511352539\n",
      "Epoch: 36, acc: 0.6640833616256714\n",
      "Epoch: 37, acc: 0.6651333570480347\n",
      "Epoch: 38, acc: 0.6662333607673645\n",
      "Epoch: 39, acc: 0.6675333380699158\n",
      "Epoch: 40, acc: 0.6686166524887085\n",
      "Epoch: 41, acc: 0.6690999865531921\n",
      "Epoch: 42, acc: 0.6697999835014343\n",
      "Epoch: 43, acc: 0.6710333228111267\n",
      "Epoch: 44, acc: 0.6714833378791809\n",
      "Epoch: 45, acc: 0.6721833348274231\n",
      "Epoch: 46, acc: 0.6729333400726318\n",
      "Epoch: 47, acc: 0.673550009727478\n",
      "Epoch: 48, acc: 0.6742333173751831\n",
      "Epoch: 49, acc: 0.6748999953269958\n",
      "Epoch: 50, acc: 0.6755666732788086\n",
      "Epoch: 51, acc: 0.6758999824523926\n",
      "Epoch: 52, acc: 0.676550030708313\n",
      "Epoch: 53, acc: 0.6770833134651184\n",
      "Epoch: 54, acc: 0.6776000261306763\n",
      "Epoch: 55, acc: 0.6780999898910522\n",
      "Epoch: 56, acc: 0.6785500049591064\n",
      "Epoch: 57, acc: 0.6789000034332275\n",
      "Epoch: 58, acc: 0.6793500185012817\n",
      "Epoch: 59, acc: 0.6795499920845032\n",
      "Epoch: 60, acc: 0.6799166798591614\n",
      "Epoch: 61, acc: 0.680400013923645\n",
      "Epoch: 62, acc: 0.6807833313941956\n",
      "Epoch: 63, acc: 0.6810666918754578\n",
      "Epoch: 64, acc: 0.6814833283424377\n",
      "Epoch: 65, acc: 0.6818333268165588\n",
      "Epoch: 66, acc: 0.6820499897003174\n",
      "Epoch: 67, acc: 0.6823333501815796\n",
      "Epoch: 68, acc: 0.6825667023658752\n",
      "Epoch: 69, acc: 0.6828500032424927\n",
      "Epoch: 70, acc: 0.6831666827201843\n",
      "Epoch: 71, acc: 0.68340003490448\n",
      "Epoch: 72, acc: 0.6836666464805603\n",
      "Epoch: 73, acc: 0.6839333176612854\n",
      "Epoch: 74, acc: 0.6841999888420105\n",
      "Epoch: 75, acc: 0.6843500137329102\n",
      "Epoch: 76, acc: 0.6844500303268433\n",
      "Epoch: 77, acc: 0.6846333146095276\n",
      "Epoch: 78, acc: 0.6848500370979309\n",
      "Epoch: 79, acc: 0.6849333643913269\n",
      "Epoch: 80, acc: 0.6850500106811523\n",
      "Epoch: 81, acc: 0.685283362865448\n",
      "Epoch: 82, acc: 0.6854666471481323\n",
      "Epoch: 83, acc: 0.685783326625824\n",
      "Epoch: 84, acc: 0.6861000061035156\n",
      "Epoch: 85, acc: 0.6870333552360535\n",
      "Epoch: 86, acc: 0.6877666711807251\n",
      "Epoch: 87, acc: 0.6900333166122437\n",
      "Epoch: 88, acc: 0.6950833201408386\n",
      "Epoch: 89, acc: 0.7098166942596436\n",
      "Epoch: 90, acc: 0.721833348274231\n",
      "Epoch: 91, acc: 0.7448833584785461\n",
      "Epoch: 92, acc: 0.7525166869163513\n",
      "Epoch: 93, acc: 0.7544666528701782\n",
      "Epoch: 94, acc: 0.7564499974250793\n",
      "Epoch: 95, acc: 0.7603333592414856\n",
      "Epoch: 96, acc: 0.7641000151634216\n",
      "Epoch: 97, acc: 0.7669500112533569\n",
      "Epoch: 98, acc: 0.7680166959762573\n",
      "Epoch: 99, acc: 0.7689999938011169\n"
     ]
    }
   ],
   "source": [
    "modelTorch =  torch.nn.Sequential(\n",
    "    torch.nn.Linear(784, 128),\n",
    "    torch.nn.ReLU(),\n",
    "    torch.nn.Linear(128, 128),\n",
    "    torch.nn.ReLU(),\n",
    "    torch.nn.Linear(128, 10),\n",
    "    torch.nn.Softmax()\n",
    ").to(\"cuda\")\n",
    "opt = torch.optim.Adam(modelTorch.parameters(), lr=1e-3)\n",
    "modelTorch.zero_grad()\n",
    "for i in range(100):\n",
    "    opt.zero_grad()\n",
    "    pred = modelTorch(x_train)\n",
    "    loss = torch.nn.functional.cross_entropy(pred, y_train)\n",
    "    loss.backward()\n",
    "    opt.step()\n",
    "    acc = (torch.argmax(modelTorch(x_train), -1)==y_train).float().mean()\n",
    "    print(f\"Epoch: {i}, acc: {acc}\")\n"
   ]
  },
  {
   "cell_type": "code",
   "execution_count": 17,
   "metadata": {},
   "outputs": [
    {
     "name": "stderr",
     "output_type": "stream",
     "text": [
      "/home/eli/anaconda3/envs/cmsc320/lib/python3.8/site-packages/torch/nn/modules/container.py:204: UserWarning: Implicit dimension choice for softmax has been deprecated. Change the call to include dim=X as an argument.\n",
      "  input = module(input)\n"
     ]
    },
    {
     "name": "stdout",
     "output_type": "stream",
     "text": [
      "Epoch: 0, acc: 0.1386166661977768, loss: 2.3026459217071533, val: 0.14169999957084656\n",
      "Epoch: 1, acc: 0.2796333432197571, loss: 2.174056053161621, val: 0.2874000072479248\n",
      "Epoch: 2, acc: 0.3178499937057495, loss: 2.128352165222168, val: 0.32690000534057617\n",
      "Epoch: 3, acc: 0.4109833240509033, loss: 2.0459036827087402, val: 0.4196999967098236\n",
      "Epoch: 4, acc: 0.46810001134872437, loss: 1.9917415380477905, val: 0.47669997811317444\n",
      "Epoch: 5, acc: 0.5149666666984558, loss: 1.9452345371246338, val: 0.5281000137329102\n",
      "Epoch: 6, acc: 0.5255666971206665, loss: 1.9333657026290894, val: 0.5372999906539917\n",
      "Epoch: 7, acc: 0.5542333126068115, loss: 1.904066801071167, val: 0.5620999932289124\n",
      "Epoch: 8, acc: 0.5871666669845581, loss: 1.870249629020691, val: 0.5942999720573425\n",
      "Epoch: 9, acc: 0.6352999806404114, loss: 1.82814621925354, val: 0.6311999559402466\n",
      "Epoch: 10, acc: 0.6787166595458984, loss: 1.7884925603866577, val: 0.674299955368042\n",
      "Epoch: 11, acc: 0.6893333196640015, loss: 1.7767237424850464, val: 0.6902999877929688\n",
      "Epoch: 12, acc: 0.7358500361442566, loss: 1.7318013906478882, val: 0.7343999743461609\n",
      "Epoch: 13, acc: 0.7589166760444641, loss: 1.707751989364624, val: 0.7597000002861023\n",
      "Epoch: 14, acc: 0.7716166973114014, loss: 1.693082332611084, val: 0.7745999693870544\n",
      "Epoch: 15, acc: 0.7799833416938782, loss: 1.6835217475891113, val: 0.7825999855995178\n",
      "Epoch: 16, acc: 0.7923833131790161, loss: 1.671397089958191, val: 0.7917999625205994\n",
      "Epoch: 17, acc: 0.8008500337600708, loss: 1.6621981859207153, val: 0.7996999621391296\n",
      "Epoch: 18, acc: 0.8056166768074036, loss: 1.6566646099090576, val: 0.8062999844551086\n",
      "Epoch: 19, acc: 0.8093500137329102, loss: 1.652828574180603, val: 0.8096999526023865\n",
      "Epoch: 20, acc: 0.8117333650588989, loss: 1.6497526168823242, val: 0.8138999938964844\n",
      "Epoch: 21, acc: 0.817716658115387, loss: 1.6447601318359375, val: 0.8167999982833862\n",
      "Epoch: 22, acc: 0.8228999972343445, loss: 1.6390866041183472, val: 0.823199987411499\n",
      "Epoch: 23, acc: 0.8281166553497314, loss: 1.6338838338851929, val: 0.8258999586105347\n",
      "Epoch: 24, acc: 0.8321000337600708, loss: 1.629938006401062, val: 0.8292999863624573\n",
      "Epoch: 25, acc: 0.8334167003631592, loss: 1.6286131143569946, val: 0.8301999568939209\n",
      "Epoch: 26, acc: 0.8344166874885559, loss: 1.6273229122161865, val: 0.8300999999046326\n",
      "Epoch: 27, acc: 0.8381666541099548, loss: 1.6236108541488647, val: 0.8331999778747559\n",
      "Epoch: 28, acc: 0.8418333530426025, loss: 1.6199618577957153, val: 0.835599958896637\n",
      "Epoch: 29, acc: 0.84333336353302, loss: 1.6184227466583252, val: 0.8394999504089355\n",
      "Epoch: 30, acc: 0.843916654586792, loss: 1.6175804138183594, val: 0.840399980545044\n",
      "Epoch: 31, acc: 0.8454166650772095, loss: 1.6159992218017578, val: 0.8409000039100647\n",
      "Epoch: 32, acc: 0.8475333452224731, loss: 1.614000916481018, val: 0.8420999646186829\n",
      "Epoch: 33, acc: 0.8492666482925415, loss: 1.6122804880142212, val: 0.8424999713897705\n",
      "Epoch: 34, acc: 0.8511500358581543, loss: 1.6106071472167969, val: 0.8434999585151672\n",
      "Epoch: 35, acc: 0.8529500365257263, loss: 1.6088396310806274, val: 0.8445999622344971\n",
      "Epoch: 36, acc: 0.8547000288963318, loss: 1.6074355840682983, val: 0.8466999530792236\n",
      "Epoch: 37, acc: 0.85548335313797, loss: 1.6064921617507935, val: 0.8484999537467957\n",
      "Epoch: 38, acc: 0.8565000295639038, loss: 1.6053298711776733, val: 0.849399983882904\n",
      "Epoch: 39, acc: 0.8580166697502136, loss: 1.603776216506958, val: 0.8497999906539917\n",
      "Epoch: 40, acc: 0.8592333197593689, loss: 1.6023937463760376, val: 0.8502999544143677\n",
      "Epoch: 41, acc: 0.8600500226020813, loss: 1.6016000509262085, val: 0.8499999642372131\n",
      "Epoch: 42, acc: 0.8607666492462158, loss: 1.6008567810058594, val: 0.8509999513626099\n",
      "Epoch: 43, acc: 0.8619999885559082, loss: 1.599675178527832, val: 0.8521999716758728\n",
      "Epoch: 44, acc: 0.8632833361625671, loss: 1.5984989404678345, val: 0.8532999753952026\n",
      "Epoch: 45, acc: 0.8640000224113464, loss: 1.5976349115371704, val: 0.8538999557495117\n",
      "Epoch: 46, acc: 0.8647500276565552, loss: 1.596925139427185, val: 0.8544999957084656\n",
      "Epoch: 47, acc: 0.8658333420753479, loss: 1.5961779356002808, val: 0.8544999957084656\n",
      "Epoch: 48, acc: 0.8664833307266235, loss: 1.5953601598739624, val: 0.8547999858856201\n",
      "Epoch: 49, acc: 0.8673166632652283, loss: 1.5944815874099731, val: 0.8565999865531921\n",
      "Epoch: 50, acc: 0.8681666851043701, loss: 1.593598484992981, val: 0.8570999503135681\n",
      "Epoch: 51, acc: 0.8690333366394043, loss: 1.5928375720977783, val: 0.858199954032898\n",
      "Epoch: 52, acc: 0.8696333169937134, loss: 1.5922093391418457, val: 0.8586999773979187\n",
      "Epoch: 53, acc: 0.8702999949455261, loss: 1.5915192365646362, val: 0.8590999841690063\n",
      "Epoch: 54, acc: 0.8709166646003723, loss: 1.590805172920227, val: 0.859499990940094\n",
      "Epoch: 55, acc: 0.8715167045593262, loss: 1.5902414321899414, val: 0.8598999977111816\n",
      "Epoch: 56, acc: 0.8720166683197021, loss: 1.5897867679595947, val: 0.8603000044822693\n",
      "Epoch: 57, acc: 0.8725666999816895, loss: 1.5891886949539185, val: 0.8605999946594238\n",
      "Epoch: 58, acc: 0.8730833530426025, loss: 1.5884989500045776, val: 0.8610000014305115\n",
      "Epoch: 59, acc: 0.8737166523933411, loss: 1.5877677202224731, val: 0.8623999953269958\n",
      "Epoch: 60, acc: 0.8752333521842957, loss: 1.5863642692565918, val: 0.8639000058174133\n",
      "Epoch: 61, acc: 0.8794500231742859, loss: 1.5820386409759521, val: 0.8664999604225159\n",
      "Epoch: 62, acc: 0.8937333226203918, loss: 1.5683658123016357, val: 0.8791999816894531\n",
      "Epoch: 63, acc: 0.9031000137329102, loss: 1.56039297580719, val: 0.8896999955177307\n",
      "Epoch: 64, acc: 0.9193500280380249, loss: 1.5438368320465088, val: 0.9093999862670898\n",
      "Epoch: 65, acc: 0.930733323097229, loss: 1.5320888757705688, val: 0.9211999773979187\n",
      "Epoch: 66, acc: 0.9414333701133728, loss: 1.5217467546463013, val: 0.9341999888420105\n",
      "Epoch: 67, acc: 0.947950005531311, loss: 1.5153498649597168, val: 0.9419999718666077\n",
      "Epoch: 68, acc: 0.9510166645050049, loss: 1.512137532234192, val: 0.9444999694824219\n",
      "Epoch: 69, acc: 0.9535833597183228, loss: 1.5092495679855347, val: 0.9459999799728394\n",
      "Epoch: 70, acc: 0.9544166922569275, loss: 1.5086649656295776, val: 0.9466999769210815\n",
      "Epoch: 71, acc: 0.9555000066757202, loss: 1.5071916580200195, val: 0.9472999572753906\n",
      "Epoch: 72, acc: 0.9576666951179504, loss: 1.505125880241394, val: 0.9487999677658081\n",
      "Epoch: 73, acc: 0.9585000276565552, loss: 1.5041606426239014, val: 0.9505999684333801\n",
      "Epoch: 74, acc: 0.9589999914169312, loss: 1.5036492347717285, val: 0.9511999487876892\n",
      "Epoch: 75, acc: 0.9602000117301941, loss: 1.5026639699935913, val: 0.9514999985694885\n",
      "Epoch: 76, acc: 0.9613333344459534, loss: 1.5015274286270142, val: 0.9521999955177307\n",
      "Epoch: 77, acc: 0.9626833200454712, loss: 1.5001554489135742, val: 0.9528999924659729\n",
      "Epoch: 78, acc: 0.9637666940689087, loss: 1.4990307092666626, val: 0.9533999562263489\n",
      "Epoch: 79, acc: 0.9648666977882385, loss: 1.4979758262634277, val: 0.9546999931335449\n",
      "Epoch: 80, acc: 0.9657666683197021, loss: 1.4968526363372803, val: 0.9564999938011169\n",
      "Epoch: 81, acc: 0.9668999910354614, loss: 1.4959344863891602, val: 0.9565999507904053\n",
      "Epoch: 82, acc: 0.9675333499908447, loss: 1.4951318502426147, val: 0.9583999514579773\n",
      "Epoch: 83, acc: 0.9683166742324829, loss: 1.4942352771759033, val: 0.9583999514579773\n",
      "Epoch: 84, acc: 0.9690999984741211, loss: 1.4934853315353394, val: 0.9584999680519104\n",
      "Epoch: 85, acc: 0.9697999954223633, loss: 1.4928221702575684, val: 0.9585999846458435\n",
      "Epoch: 86, acc: 0.9706166982650757, loss: 1.4920692443847656, val: 0.960099995136261\n",
      "Epoch: 87, acc: 0.9714000225067139, loss: 1.491330623626709, val: 0.9602999687194824\n",
      "Epoch: 88, acc: 0.9720667004585266, loss: 1.4906892776489258, val: 0.9609999656677246\n",
      "Epoch: 89, acc: 0.9726333618164062, loss: 1.4901105165481567, val: 0.9621999859809875\n",
      "Epoch: 90, acc: 0.9731000065803528, loss: 1.4895035028457642, val: 0.9617999792098999\n",
      "Epoch: 91, acc: 0.9736999869346619, loss: 1.488897442817688, val: 0.962399959564209\n",
      "Epoch: 92, acc: 0.9741833209991455, loss: 1.4884225130081177, val: 0.9633999466896057\n",
      "Epoch: 93, acc: 0.9747000336647034, loss: 1.4879481792449951, val: 0.9639999866485596\n",
      "Epoch: 94, acc: 0.975266695022583, loss: 1.487412452697754, val: 0.9642999768257141\n",
      "Epoch: 95, acc: 0.9755499958992004, loss: 1.4869598150253296, val: 0.9657999873161316\n",
      "Epoch: 96, acc: 0.9760500192642212, loss: 1.4865586757659912, val: 0.9659000039100647\n",
      "Epoch: 97, acc: 0.9764000177383423, loss: 1.4861863851547241, val: 0.9655999541282654\n",
      "Epoch: 98, acc: 0.9765999913215637, loss: 1.4858348369598389, val: 0.965999960899353\n",
      "Epoch: 99, acc: 0.9769666790962219, loss: 1.4854294061660767, val: 0.9660999774932861\n"
     ]
    }
   ],
   "source": [
    "model =  torch.nn.Sequential(\n",
    "    Linear(784, 128),\n",
    "    ReLU(),\n",
    "    Linear(128, 256),\n",
    "    ReLU(),\n",
    "    Linear(256, 128),\n",
    "    ReLU(),\n",
    "    Linear(128, 10),\n",
    "    Softmax()\n",
    ").to(\"cuda\")\n",
    "opt = torch.optim.Adam(model.parameters(), lr=1e-3)\n",
    "model.zero_grad()\n",
    "training_acc = []\n",
    "validation_acc = []\n",
    "for i in range(100):\n",
    "    opt.zero_grad()\n",
    "    pred = model(x_train)\n",
    "    loss = torch.nn.functional.cross_entropy(pred, y_train)\n",
    "    acc = (torch.argmax(pred, -1)==y_train).float().mean()\n",
    "    training_acc.append(acc)\n",
    "    validation_acc.append((torch.argmax(model(x_test), -1)==y_test).float().mean())\n",
    "    #if i % 50 == 0:\n",
    "    print(f\"Epoch: {i}, acc: {acc}, loss: {loss.item()}, val: {validation_acc[-1]}\")\n",
    "    loss.backward()\n",
    "    opt.step()\n",
    "#fig, ax = plt.subplots()\n",
    "#ax.plot(list(range(1000)), training_acc)\n",
    "#ax.plot(list(range(1000)), validation_acc)\n",
    "#plt.show()\n"
   ]
  },
  {
   "cell_type": "code",
   "execution_count": 31,
   "metadata": {},
   "outputs": [
    {
     "data": {
      "image/png": "[encoded data removed]",
      "text/plain": [
       "<Figure size 432x288 with 1 Axes>"
      ]
     },
     "metadata": {
      "needs_background": "light"
     },
     "output_type": "display_data"
    }
   ],
   "source": [
    "x = [\"param\"]\n",
    "fig, ax = plt.subplots()\n",
    "ax.bar(x,[100])\n",
    "ax.bar(x, [10])\n",
    "plt.show()"
   ]
  },
  {
   "cell_type": "code",
   "execution_count": 47,
   "metadata": {},
   "outputs": [
    {
     "data": {
      "text/plain": [
       "tensor([ -4.9928,   4.9012,   9.7622, -16.6574, -11.7252,   1.4748,   0.6267,\n",
       "         -9.7920,  -4.4635,  -5.2804,   8.4822,  16.3198,   8.9842])"
      ]
     },
     "execution_count": 47,
     "metadata": {},
     "output_type": "execute_result"
    }
   ],
   "source": [
    "x = torch.randn((13,7,11))\n",
    "x.sum((-2,-1))"
   ]
  },
  {
   "cell_type": "code",
   "execution_count": 48,
   "metadata": {},
   "outputs": [
    {
     "data": {
      "text/plain": [
       "tensor([ -4.9928,   4.9012,   9.7622, -16.6574, -11.7252,   1.4748,   0.6267,\n",
       "         -9.7920,  -4.4635,  -5.2804,   8.4822,  16.3198,   8.9842])"
      ]
     },
     "execution_count": 48,
     "metadata": {},
     "output_type": "execute_result"
    }
   ],
   "source": [
    "torch.einsum(\"abc->a\",x)"
   ]
  },
  {
   "cell_type": "code",
   "execution_count": 75,
   "metadata": {},
   "outputs": [
    {
     "data": {
      "text/plain": [
       "tensor([[-0.3211, -0.0321,  0.3448, -0.3467, -0.2131, -0.2474,  0.3617],\n",
       "        [ 0.0813,  0.1287, -0.2923,  0.1036,  0.4778,  0.0651, -0.1186],\n",
       "        [-0.1493, -0.0045,  0.3181,  0.3579,  0.0219, -0.2029,  0.5464],\n",
       "        [-0.4007, -0.1336, -0.6260, -0.1423, -0.1100,  0.0151, -0.1168],\n",
       "        [-0.2416,  0.3958, -0.3093, -0.1704,  0.4229, -0.7369, -0.4264],\n",
       "        [-0.3542,  0.2005,  0.7623, -0.4718,  0.3173, -0.1951, -0.1250],\n",
       "        [-0.2685,  0.1774, -0.0405, -0.3721,  0.1492,  0.3126,  0.0989],\n",
       "        [-0.1015, -0.5837,  0.6358, -0.0481, -0.3747, -0.1684, -0.2497],\n",
       "        [ 0.4587, -0.2433,  0.0860, -0.1310,  0.1735, -0.3761, -0.3736],\n",
       "        [-0.1139, -0.0109, -0.2122, -0.3275, -0.2340,  0.3204,  0.0979],\n",
       "        [ 0.1052,  0.4227, -0.0907, -0.2231,  0.1939, -0.1365,  0.4996],\n",
       "        [ 0.1439,  0.2337,  0.5574,  0.1092,  0.2914,  0.4421, -0.2940],\n",
       "        [ 0.1203, -0.3396,  0.0831,  0.3437,  0.5117, -0.0987,  0.1962]])"
      ]
     },
     "execution_count": 75,
     "metadata": {},
     "output_type": "execute_result"
    }
   ],
   "source": [
    "x.mean(-1)"
   ]
  },
  {
   "cell_type": "code",
   "execution_count": 78,
   "metadata": {},
   "outputs": [
    {
     "data": {
      "text/plain": [
       "tensor([[0., 0., 0., 0., 0., 0., 0.],\n",
       "        [0., 0., 0., 0., 0., 0., 0.],\n",
       "        [0., 0., 0., 0., 0., 0., 0.],\n",
       "        [0., 0., 0., 0., 0., 0., 0.],\n",
       "        [0., 0., 0., 0., 0., 0., 0.],\n",
       "        [0., 0., 0., 0., 0., 0., 0.],\n",
       "        [0., 0., 0., 0., 0., 0., 0.],\n",
       "        [0., 0., 0., 0., 0., 0., 0.],\n",
       "        [0., 0., 0., 0., 0., 0., 0.],\n",
       "        [0., 0., 0., 0., 0., 0., 0.],\n",
       "        [0., 0., 0., 0., 0., 0., 0.],\n",
       "        [0., 0., 0., 0., 0., 0., 0.],\n",
       "        [0., 0., 0., 0., 0., 0., 0.]])"
      ]
     },
     "execution_count": 78,
     "metadata": {},
     "output_type": "execute_result"
    }
   ],
   "source": [
    "x.sum(-1)/x.shape[-1] - x.mean(-1)"
   ]
  },
  {
   "cell_type": "code",
   "execution_count": 80,
   "metadata": {},
   "outputs": [
    {
     "data": {
      "text/plain": [
       "tensor([-0.0648,  0.0637,  0.1268, -0.2163, -0.1523,  0.0192,  0.0081, -0.1272,\n",
       "        -0.0580, -0.0686,  0.1102,  0.2119,  0.1167])"
      ]
     },
     "execution_count": 80,
     "metadata": {},
     "output_type": "execute_result"
    }
   ],
   "source": [
    "x.mean((-2,-1))"
   ]
  },
  {
   "cell_type": "code",
   "execution_count": 85,
   "metadata": {},
   "outputs": [
    {
     "ename": "TypeError",
     "evalue": "tuple indices must be integers or slices, not tuple",
     "output_type": "error",
     "traceback": [
      "\u001b[0;31m---------------------------------------------------------------------------\u001b[0m",
      "\u001b[0;31mTypeError\u001b[0m                                 Traceback (most recent call last)",
      "\u001b[0;32m<ipython-input-85-5f74013a3cb2>\u001b[0m in \u001b[0;36m<module>\u001b[0;34m\u001b[0m\n\u001b[0;32m----> 1\u001b[0;31m \u001b[0mx\u001b[0m\u001b[0;34m.\u001b[0m\u001b[0mshape\u001b[0m\u001b[0;34m[\u001b[0m\u001b[0;34m-\u001b[0m\u001b[0;36m2\u001b[0m\u001b[0;34m,\u001b[0m \u001b[0;34m-\u001b[0m\u001b[0;36m1\u001b[0m\u001b[0;34m]\u001b[0m\u001b[0;34m\u001b[0m\u001b[0;34m\u001b[0m\u001b[0m\n\u001b[0m",
      "\u001b[0;31mTypeError\u001b[0m: tuple indices must be integers or slices, not tuple"
     ]
    }
   ],
   "source": [
    "x.shape[-2, -1]"
   ]
  },
  {
   "cell_type": "code",
   "execution_count": 52,
   "metadata": {},
   "outputs": [
    {
     "data": {
      "text/plain": [
       "tensor([[-3.5319, -0.3529,  3.7930, -3.8141, -2.3437, -2.7218,  3.9787],\n",
       "        [ 0.8943,  1.4159, -3.2153,  1.1397,  5.2557,  0.7157, -1.3050],\n",
       "        [-1.6423, -0.0500,  3.4989,  3.9365,  0.2408, -2.2323,  6.0106],\n",
       "        [-4.4078, -1.4696, -6.8858, -1.5658, -1.2104,  0.1666, -1.2847],\n",
       "        [-2.6579,  4.3536, -3.4018, -1.8749,  4.6523, -8.1059, -4.6906],\n",
       "        [-3.8964,  2.2059,  8.3858, -5.1897,  3.4905, -2.1459, -1.3754],\n",
       "        [-2.9534,  1.9513, -0.4451, -4.0936,  1.6414,  3.4385,  1.0876],\n",
       "        [-1.1165, -6.4204,  6.9940, -0.5287, -4.1218, -1.8522, -2.7464],\n",
       "        [ 5.0456, -2.6760,  0.9459, -1.4408,  1.9083, -4.1369, -4.1096],\n",
       "        [-1.2524, -0.1198, -2.3344, -3.6022, -2.5737,  3.5248,  1.0774],\n",
       "        [ 1.1575,  4.6498, -0.9976, -2.4541,  2.1324, -1.5014,  5.4956],\n",
       "        [ 1.5825,  2.5709,  6.1310,  1.2015,  3.2053,  4.8629, -3.2344],\n",
       "        [ 1.3238, -3.7360,  0.9137,  3.7806,  5.6291, -1.0854,  2.1584]])"
      ]
     },
     "execution_count": 52,
     "metadata": {},
     "output_type": "execute_result"
    }
   ],
   "source": [
    "torch.einsum(\"abc->ab\",x)"
   ]
  },
  {
   "cell_type": "code",
   "execution_count": 116,
   "metadata": {},
   "outputs": [],
   "source": [
    "from typing import List\n",
    "def sum(inp: torch.Tensor, dims: List[int]):\n",
    "    # convert dims to positive indices\n",
    "    dims_positive = []\n",
    "    for d in dims:\n",
    "        if d >= 0:\n",
    "            dims_positive.append(d)\n",
    "        else:\n",
    "            dims_positive.append(len(inp.shape)+d)\n",
    "    \n",
    "    lhs = ''.join(chr(ord('a')+i) for i in range(len(inp.shape)))\n",
    "    rhs = [] # rhs\n",
    "    for i in range(len(inp.shape)):\n",
    "        if i not in dims_positive:\n",
    "            rhs.append(chr(ord('a')+i))\n",
    "    rhs = ''.join(rhs)\n",
    "    \n",
    "    print(f\"{lhs}->{rhs}\")\n",
    "    return torch.einsum(f\"{lhs}->{rhs}\", inp)\n",
    "def mean(inp: torch.Tensor, dims: List[int]):\n",
    "    # todo use prod lol\n",
    "    denom = 1\n",
    "    for d in dims:\n",
    "        denom *=inp.shape[d]\n",
    "    return sum(inp, dims) / denom "
   ]
  },
  {
   "cell_type": "code",
   "execution_count": 79,
   "metadata": {},
   "outputs": [
    {
     "name": "stdout",
     "output_type": "stream",
     "text": [
      "abc->a\n"
     ]
    },
    {
     "data": {
      "text/plain": [
       "tensor(True)"
      ]
     },
     "execution_count": 79,
     "metadata": {},
     "output_type": "execute_result"
    }
   ],
   "source": [
    "~torch.any( ~(x.sum((-1,-2)) == sum(x, (-1, -2))))"
   ]
  },
  {
   "cell_type": "code",
   "execution_count": 87,
   "metadata": {},
   "outputs": [
    {
     "name": "stdout",
     "output_type": "stream",
     "text": [
      "abc->ab\n"
     ]
    },
    {
     "data": {
      "text/plain": [
       "tensor([[True, True, True, True, True, True, True],\n",
       "        [True, True, True, True, True, True, True],\n",
       "        [True, True, True, True, True, True, True],\n",
       "        [True, True, True, True, True, True, True],\n",
       "        [True, True, True, True, True, True, True],\n",
       "        [True, True, True, True, True, True, True],\n",
       "        [True, True, True, True, True, True, True],\n",
       "        [True, True, True, True, True, True, True],\n",
       "        [True, True, True, True, True, True, True],\n",
       "        [True, True, True, True, True, True, True],\n",
       "        [True, True, True, True, True, True, True],\n",
       "        [True, True, True, True, True, True, True],\n",
       "        [True, True, True, True, True, True, True]])"
      ]
     },
     "execution_count": 87,
     "metadata": {},
     "output_type": "execute_result"
    }
   ],
   "source": [
    "x.mean(-1) == mean(x, [-1])"
   ]
  },
  {
   "cell_type": "code",
   "execution_count": 96,
   "metadata": {},
   "outputs": [
    {
     "name": "stdout",
     "output_type": "stream",
     "text": [
      "abc->ab\n"
     ]
    },
    {
     "data": {
      "text/plain": [
       "tensor([[-0.3211, -0.0321,  0.3448, -0.3467, -0.2131, -0.2474,  0.3617],\n",
       "        [ 0.0813,  0.1287, -0.2923,  0.1036,  0.4778,  0.0651, -0.1186],\n",
       "        [-0.1493, -0.0045,  0.3181,  0.3579,  0.0219, -0.2029,  0.5464],\n",
       "        [-0.4007, -0.1336, -0.6260, -0.1423, -0.1100,  0.0151, -0.1168],\n",
       "        [-0.2416,  0.3958, -0.3093, -0.1704,  0.4229, -0.7369, -0.4264],\n",
       "        [-0.3542,  0.2005,  0.7623, -0.4718,  0.3173, -0.1951, -0.1250],\n",
       "        [-0.2685,  0.1774, -0.0405, -0.3721,  0.1492,  0.3126,  0.0989],\n",
       "        [-0.1015, -0.5837,  0.6358, -0.0481, -0.3747, -0.1684, -0.2497],\n",
       "        [ 0.4587, -0.2433,  0.0860, -0.1310,  0.1735, -0.3761, -0.3736],\n",
       "        [-0.1139, -0.0109, -0.2122, -0.3275, -0.2340,  0.3204,  0.0979],\n",
       "        [ 0.1052,  0.4227, -0.0907, -0.2231,  0.1939, -0.1365,  0.4996],\n",
       "        [ 0.1439,  0.2337,  0.5574,  0.1092,  0.2914,  0.4421, -0.2940],\n",
       "        [ 0.1203, -0.3396,  0.0831,  0.3437,  0.5117, -0.0987,  0.1962]])"
      ]
     },
     "execution_count": 96,
     "metadata": {},
     "output_type": "execute_result"
    }
   ],
   "source": [
    "sum(x, [-1])/x.shape[-1]"
   ]
  },
  {
   "cell_type": "code",
   "execution_count": 90,
   "metadata": {},
   "outputs": [
    {
     "data": {
      "text/plain": [
       "tensor([[-0.3211, -0.0321,  0.3448, -0.3467, -0.2131, -0.2474,  0.3617],\n",
       "        [ 0.0813,  0.1287, -0.2923,  0.1036,  0.4778,  0.0651, -0.1186],\n",
       "        [-0.1493, -0.0045,  0.3181,  0.3579,  0.0219, -0.2029,  0.5464],\n",
       "        [-0.4007, -0.1336, -0.6260, -0.1423, -0.1100,  0.0151, -0.1168],\n",
       "        [-0.2416,  0.3958, -0.3093, -0.1704,  0.4229, -0.7369, -0.4264],\n",
       "        [-0.3542,  0.2005,  0.7623, -0.4718,  0.3173, -0.1951, -0.1250],\n",
       "        [-0.2685,  0.1774, -0.0405, -0.3721,  0.1492,  0.3126,  0.0989],\n",
       "        [-0.1015, -0.5837,  0.6358, -0.0481, -0.3747, -0.1684, -0.2497],\n",
       "        [ 0.4587, -0.2433,  0.0860, -0.1310,  0.1735, -0.3761, -0.3736],\n",
       "        [-0.1139, -0.0109, -0.2122, -0.3275, -0.2340,  0.3204,  0.0979],\n",
       "        [ 0.1052,  0.4227, -0.0907, -0.2231,  0.1939, -0.1365,  0.4996],\n",
       "        [ 0.1439,  0.2337,  0.5574,  0.1092,  0.2914,  0.4421, -0.2940],\n",
       "        [ 0.1203, -0.3396,  0.0831,  0.3437,  0.5117, -0.0987,  0.1962]])"
      ]
     },
     "execution_count": 90,
     "metadata": {},
     "output_type": "execute_result"
    }
   ],
   "source": [
    "torch.mean(x, -1)"
   ]
  },
  {
   "cell_type": "code",
   "execution_count": 106,
   "metadata": {},
   "outputs": [
    {
     "data": {
      "text/plain": [
       "tensor([1.1006, 0.9720, 1.0649, 1.0924, 0.8405, 1.2960, 1.0906, 0.9332, 1.1878,\n",
       "        0.8984, 1.2499, 0.9131, 0.8298])"
      ]
     },
     "execution_count": 106,
     "metadata": {},
     "output_type": "execute_result"
    }
   ],
   "source": [
    "torch.var(x, (-2,-1))"
   ]
  },
  {
   "cell_type": "code",
   "execution_count": 108,
   "metadata": {},
   "outputs": [
    {
     "data": {
      "text/plain": [
       "torch.Size([13])"
      ]
     },
     "execution_count": 108,
     "metadata": {},
     "output_type": "execute_result"
    }
   ],
   "source": [
    "x.mean((-2,-1)).shape#.unsqueeze((-2,-1)))#.square().sum(-1)/(x.shape[-1]-1)"
   ]
  },
  {
   "cell_type": "code",
   "execution_count": 101,
   "metadata": {},
   "outputs": [
    {
     "data": {
      "text/plain": [
       "torch.Size([13, 7, 11])"
      ]
     },
     "execution_count": 101,
     "metadata": {},
     "output_type": "execute_result"
    }
   ],
   "source": [
    "x.shape"
   ]
  },
  {
   "cell_type": "code",
   "execution_count": 104,
   "metadata": {},
   "outputs": [
    {
     "data": {
      "text/plain": [
       "torch.Size([13, 7])"
      ]
     },
     "execution_count": 104,
     "metadata": {},
     "output_type": "execute_result"
    }
   ],
   "source": [
    "torch.var(x, -1).shape"
   ]
  },
  {
   "cell_type": "code",
   "execution_count": 115,
   "metadata": {},
   "outputs": [
    {
     "data": {
      "text/plain": [
       "tensor(-2.3601)"
      ]
     },
     "execution_count": 115,
     "metadata": {},
     "output_type": "execute_result"
    }
   ],
   "source": [
    "torch.einsum(\"abc->...\",x)"
   ]
  },
  {
   "cell_type": "code",
   "execution_count": 117,
   "metadata": {},
   "outputs": [
    {
     "name": "stdout",
     "output_type": "stream",
     "text": [
      "abc->abc\n"
     ]
    },
    {
     "data": {
      "text/plain": [
       "tensor([[[ 6.4436e-01, -1.0156e+00,  1.0732e+00,  ..., -1.2626e+00,\n",
       "          -3.7083e-01, -1.0984e+00],\n",
       "         [ 7.4584e-01,  1.1514e+00, -2.4538e-01,  ...,  4.3150e-01,\n",
       "          -2.9841e-01,  2.2404e-01],\n",
       "         [ 1.2356e+00,  1.5029e+00,  2.8575e-01,  ..., -9.0487e-01,\n",
       "           5.5126e-01,  1.9338e+00],\n",
       "         ...,\n",
       "         [-4.2285e-01,  1.6949e-01, -1.6509e-01,  ..., -1.4481e+00,\n",
       "          -4.3600e-02, -1.0254e+00],\n",
       "         [-2.0217e-01, -7.7940e-01, -9.3024e-01,  ...,  9.3761e-01,\n",
       "           1.7902e+00, -1.1064e+00],\n",
       "         [ 1.5089e+00,  3.9640e-01,  9.7606e-01,  ...,  2.2359e+00,\n",
       "           3.6540e-01, -2.1574e+00]],\n",
       "\n",
       "        [[-8.2979e-01, -1.3071e+00,  1.7904e+00,  ..., -2.0943e-03,\n",
       "           5.7923e-01,  4.8368e-01],\n",
       "         [ 9.5262e-01,  4.0163e-01, -5.3008e-01,  ..., -1.4827e+00,\n",
       "          -1.5000e-01,  1.4208e+00],\n",
       "         [ 3.1618e-01, -5.1699e-01, -4.3720e-01,  ...,  5.7492e-01,\n",
       "          -2.5889e+00, -1.0792e+00],\n",
       "         ...,\n",
       "         [ 8.2444e-01,  1.1847e+00, -6.6476e-01,  ...,  5.7039e-01,\n",
       "           2.1809e+00,  1.1729e+00],\n",
       "         [ 1.5056e+00,  1.7101e+00, -6.4526e-01,  ..., -1.0436e+00,\n",
       "           1.3753e+00, -6.0973e-02],\n",
       "         [ 3.4113e-01, -8.1892e-01, -1.0006e+00,  ..., -4.4408e-01,\n",
       "          -2.8555e-01,  5.7725e-01]],\n",
       "\n",
       "        [[-2.5009e-03, -1.0908e+00, -1.3234e+00,  ..., -2.0276e+00,\n",
       "           1.0700e+00,  9.2287e-01],\n",
       "         [ 2.1158e-01,  1.0687e+00, -1.0020e+00,  ...,  5.9499e-01,\n",
       "           9.2085e-01, -1.0375e+00],\n",
       "         [-6.0684e-01,  4.5661e-01,  3.4219e-02,  ...,  8.7437e-01,\n",
       "           8.8827e-01, -3.7931e-01],\n",
       "         ...,\n",
       "         [ 1.3149e+00,  6.6354e-01, -7.7246e-01,  ...,  7.3194e-01,\n",
       "          -3.9063e-01, -6.9538e-02],\n",
       "         [ 6.6182e-01, -1.8376e+00, -1.5853e+00,  ..., -2.0485e-01,\n",
       "           9.4770e-01, -7.0146e-01],\n",
       "         [ 1.2062e+00,  1.2190e+00,  5.6675e-01,  ..., -5.7936e-01,\n",
       "          -1.2374e+00, -1.9587e-01]],\n",
       "\n",
       "        ...,\n",
       "\n",
       "        [[ 6.1659e-01,  1.9372e+00, -1.0157e-01,  ..., -1.4312e+00,\n",
       "          -7.7078e-01,  4.6099e-01],\n",
       "         [ 8.9343e-02,  6.8102e-01,  1.6924e-01,  ..., -7.8804e-01,\n",
       "          -5.4245e-01,  1.0655e+00],\n",
       "         [-5.9148e-01, -1.2174e+00,  3.6643e-02,  ...,  3.5271e-01,\n",
       "           1.0230e+00,  2.0978e-01],\n",
       "         ...,\n",
       "         [ 5.3034e-01,  1.2540e+00, -1.0299e-01,  ..., -8.8655e-01,\n",
       "          -2.1453e-01, -5.1305e-01],\n",
       "         [-1.4317e+00,  2.0561e-01, -1.9077e-01,  ...,  3.7356e-01,\n",
       "          -5.6935e-01, -1.4055e+00],\n",
       "         [ 2.3691e+00,  1.4098e+00, -1.6559e+00,  ...,  6.6851e-02,\n",
       "          -5.6677e-01,  2.3843e+00]],\n",
       "\n",
       "        [[-6.5382e-01, -5.6150e-02,  4.8938e-02,  ...,  1.0857e+00,\n",
       "           6.8207e-01,  8.1992e-01],\n",
       "         [ 1.1018e+00,  1.7422e+00,  5.5406e-01,  ..., -9.7654e-01,\n",
       "           1.7459e+00,  1.0470e+00],\n",
       "         [-8.3358e-01,  1.6782e+00,  2.6688e-01,  ..., -3.8327e-01,\n",
       "           1.6466e+00,  2.1922e+00],\n",
       "         ...,\n",
       "         [ 7.1102e-01,  6.7710e-01,  1.4638e+00,  ...,  5.2188e-01,\n",
       "           9.7144e-01, -1.3370e+00],\n",
       "         [ 1.6558e+00, -1.6861e-01,  2.9727e-01,  ...,  1.4649e+00,\n",
       "           5.9587e-01, -7.6108e-01],\n",
       "         [-4.0064e-01,  4.7078e-01, -5.6919e-01,  ..., -1.7339e+00,\n",
       "           2.9011e-02, -2.9058e-01]],\n",
       "\n",
       "        [[-6.1081e-01,  5.4175e-02, -5.2724e-01,  ..., -9.2792e-01,\n",
       "           9.1577e-01,  4.5916e-01],\n",
       "         [-6.9403e-01, -3.5005e-01,  9.2250e-01,  ..., -1.7822e+00,\n",
       "           2.2630e-01, -3.7137e-01],\n",
       "         [-2.6118e-01,  2.8477e-01, -1.7128e+00,  ...,  8.7736e-01,\n",
       "          -1.1584e+00, -6.4283e-01],\n",
       "         ...,\n",
       "         [-3.5295e-01,  3.1914e-01,  1.4681e+00,  ..., -7.1468e-01,\n",
       "           7.5341e-02, -7.3901e-02],\n",
       "         [ 4.6632e-01,  1.0744e+00, -7.3248e-02,  ...,  2.9505e-01,\n",
       "          -8.3259e-01,  9.1505e-01],\n",
       "         [ 3.0476e-01,  1.5302e-01, -8.4769e-01,  ..., -4.3190e-01,\n",
       "          -7.2633e-01, -1.2926e+00]]])"
      ]
     },
     "execution_count": 117,
     "metadata": {},
     "output_type": "execute_result"
    }
   ],
   "source": [
    "sum(x,[])"
   ]
  },
  {
   "cell_type": "code",
   "execution_count": null,
   "metadata": {},
   "outputs": [],
   "source": []
  }
 ],
 "metadata": {
  "kernelspec": {
   "display_name": "Python 3.8.13 ('cmsc320')",
   "language": "python",
   "name": "python3"
  },
  "language_info": {
   "codemirror_mode": {
    "name": "ipython",
    "version": 3
   },
   "file_extension": ".py",
   "mimetype": "text/x-python",
   "name": "python",
   "nbconvert_exporter": "python",
   "pygments_lexer": "ipython3",
   "version": "3.8.13"
  },
  "orig_nbformat": 4,
  "vscode": {
   "interpreter": {
    "hash": "f9511a90667a699ce346e783fa0d1c61936f2e675e50d028d3c8600dd985175d"
   }
  }
 },
 "nbformat": 4,
 "nbformat_minor": 2
}
